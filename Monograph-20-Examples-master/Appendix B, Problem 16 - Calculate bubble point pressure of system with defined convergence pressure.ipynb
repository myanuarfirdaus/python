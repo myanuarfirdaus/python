{
 "cells": [
  {
   "cell_type": "markdown",
   "metadata": {},
   "source": [
    "# Problem 16\n",
    "Estimate bubble point pressure with modified Wilson correlation with 3 component mixture defined in Problem 15\n",
    "* Note the tabulated and reported results for this are confusing in the example as it appears that convergence pressure pk has been inadverdantly substituted for bubble point pressure. The actual problem ASSUMES pk = 2,000 psia (per Problem 15), and seeks to find the pressure at which Eq 3.165 is satisfied (being the bubble point pressure)"
   ]
  },
  {
   "cell_type": "code",
   "execution_count": 1,
   "metadata": {},
   "outputs": [],
   "source": [
    "import math\n",
    "from tabulate import tabulate\n",
    "R = 10.73146 # Universal gas constant, psia-ft3/R-lbm mol"
   ]
  },
  {
   "cell_type": "code",
   "execution_count": 32,
   "metadata": {},
   "outputs": [],
   "source": [
    "# Per Table B-18 and B-19\n",
    "comps = ['C1', 'C2', 'nC5']\n",
    "z = [0.20, 0.32, 0.48]\n",
    "pc = [667.8, 616.3, 488.6]\n",
    "tc = [343.0, 665.7, 845.4]\n",
    "w = [0.0115, 0.1454, 0.251]\n",
    "\n",
    "# As specified by problem scenario\n",
    "pk = 2000 # Convergence pressure psia \n",
    "p = 500 # psia\n",
    "t = 160 # deg F\n",
    "A2 = 0.7 # problem characterizes this as A0, but I assume this is a misprint as A0 doesn't factor into these equations\n",
    "pb = 2000"
   ]
  },
  {
   "cell_type": "code",
   "execution_count": 11,
   "metadata": {},
   "outputs": [],
   "source": [
    "# Setup a function we can call for the modified Wilson correlation\n",
    "def k_mod_wilson(w, tc, pc, t, p, pk, A2):\n",
    "    A1 = 1-((p-14.7)/(pk-14.7))**A2 # Eq 3.160 - assuming pressures given in psia, Eq 3.160 is in terms of psig\n",
    "    tr = t/tc\n",
    "    pr = p/pc\n",
    "    return (pc/pk)**(A1-1)*math.exp(5.37*A1*(1+w)*(1-1/tr))/pr # Eq 3.159"
   ]
  },
  {
   "cell_type": "code",
   "execution_count": 12,
   "metadata": {},
   "outputs": [],
   "source": [
    "# Calculate all the Ki's\n",
    "ncomps = len(comps)\n",
    "K = [k_mod_wilson(w[i], tc[i], pc[i], t+460, p, pk, A2) for i in range(ncomps)]"
   ]
  },
  {
   "cell_type": "code",
   "execution_count": 53,
   "metadata": {},
   "outputs": [],
   "source": [
    "def Fpbub(pbub, *args):\n",
    "    w, tc, pc, t, pk, A2 = args\n",
    "    ncomps = len(w)\n",
    "    K = [k_mod_wilson(w[i], tc[i], pc[i], t+460, pbub, pk, A2) for i in range(ncomps)]\n",
    "    return 1 - sum((z[i]*K[i]) for i in range(ncomps)) # Eq 3.165"
   ]
  },
  {
   "cell_type": "code",
   "execution_count": 54,
   "metadata": {},
   "outputs": [
    {
     "name": "stdout",
     "output_type": "stream",
     "text": [
      "Table B-22 Pressure Guess Calculations (Problem 16)\n",
      "\n",
      "Bubble Point Pressure = 1375.1 psia\n",
      "\n",
      "Component      zi  Ki                   yi\n",
      "-----------  ----  ----------  -----------\n",
      "C1           0.2   1.9815      0.3963\n",
      "C2           0.32  0.9956      0.3186\n",
      "nC5          0.48  0.594       0.2851\n",
      "Total        1     1-Sum(yi):  2.22045e-16\n"
     ]
    }
   ],
   "source": [
    "from scipy.optimize import brentq\n",
    "# Calculate bubble point pressure consistent with specified convergence pressure pk\n",
    "data = (w, tc, pc, t, pk, A2)\n",
    "pbub = brentq(Fpbub,14.8,pk-1, args = data) # Use SciPy Python solver Brentq instead of Newton iterations, between standard conditions pressure and 1psi less than pk (Pbub = pk is trivial solution)\n",
    "\n",
    "K = [k_mod_wilson(w[i], tc[i], pc[i], t+460, pbub, pk, A2) for i in range(ncomps)]\n",
    "y = [K[i]*z[i] for i in range(ncomps)]\n",
    "\n",
    "# And print out summary\n",
    "print('Table B-22 Pressure Guess Calculations (Problem 16)\\n')\n",
    "print('Bubble Point Pressure =', round(pbub,1),'psia\\n')\n",
    "header=['Component', 'zi', 'Ki', 'yi',]\n",
    "table = []\n",
    "for i in range(ncomps):\n",
    "    table.append([comps[i], z[i], round(K[i],4), round(y[i],4)])\n",
    "table.append(['Total', sum(z), '1-Sum(yi):', 1-sum(y) ])\n",
    "print(tabulate(table,headers=header))"
   ]
  },
  {
   "cell_type": "markdown",
   "metadata": {},
   "source": [
    "*Note how Pbub has two solutions. The upper Pbub = pk is the trivial solution for when all Ki's = 1, hence why we set upper search range to 1psi less than pk*"
   ]
  },
  {
   "cell_type": "code",
   "execution_count": 55,
   "metadata": {},
   "outputs": [
    {
     "data": {
      "image/png": "[encoded data removed]",
      "text/plain": [
       "<Figure size 432x288 with 1 Axes>"
      ]
     },
     "metadata": {
      "needs_background": "light"
     },
     "output_type": "display_data"
    }
   ],
   "source": [
    "# Plot the associated Eq 3.165 Plot\n",
    "import numpy as np\n",
    "import matplotlib.pyplot as plt\n",
    "%matplotlib inline\n",
    "\n",
    "pbub = np.linspace(1300,2000)\n",
    "plt.plot(pbub,[Fpbub(pbub, *data) for pbub in pbub])\n",
    "plt.xlabel('Pbub')\n",
    "plt.ylabel('F(Pbub)')\n",
    "plt.title(\"Eq 3.165\")\n",
    "plt.grid();"
   ]
  },
  {
   "cell_type": "code",
   "execution_count": null,
   "metadata": {},
   "outputs": [],
   "source": []
  }
 ],
 "metadata": {
  "kernelspec": {
   "display_name": "Python 3",
   "language": "python",
   "name": "python3"
  },
  "language_info": {
   "codemirror_mode": {
    "name": "ipython",
    "version": 3
   },
   "file_extension": ".py",
   "mimetype": "text/x-python",
   "name": "python",
   "nbconvert_exporter": "python",
   "pygments_lexer": "ipython3",
   "version": "3.7.2"
  }
 },
 "nbformat": 4,
 "nbformat_minor": 2
}
