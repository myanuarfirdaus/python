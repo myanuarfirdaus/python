{
 "cells": [
  {
   "cell_type": "markdown",
   "metadata": {},
   "source": [
    "#### Appendix B: Problem 4 (Recombination)"
   ]
  },
  {
   "cell_type": "markdown",
   "metadata": {},
   "source": [
    "Given information - Components names, Molecular Weights & Molar Fractions"
   ]
  },
  {
   "cell_type": "code",
   "execution_count": 2,
   "metadata": {},
   "outputs": [],
   "source": [
    "names = ['C1', 'C2', 'C3', 'iC4', 'nC4', 'iC5', 'nC5', 'nC6', 'C7+']\n",
    "y = [0.968, 0.010, 0.011, 0.003, 0.003, 0.002, 0.001, 0.002, 0.000]\n",
    "xv = [0.02, 0.006, 0.011, 0.009, 0.013, 0.016, 0.010, 0.038, 0.877]\n",
    "MW = [16.04, 30.07, 44.09, 58.12, 58.12, 72.15, 72.15, 86.17, 144]\n",
    "rho_l = [62.42*0.30, 62.42*0.45, 31.66, 35.01, 36.45, 39.13, 39.30, 41.19, 48.33]\n",
    "R = 10.73146 # Universal gas constant, psia-ft3/R-lbm mol"
   ]
  },
  {
   "cell_type": "code",
   "execution_count": 3,
   "metadata": {},
   "outputs": [],
   "source": [
    "# Solution\n",
    "ncomps = len(xv)\n",
    "Gp =5783e3 #scf seperator gas at 14.4 psia and 60 deg F\n",
    "Go = 463 # stb oil \n",
    "\n",
    "Rp = Gp/Go # Producing GOR (scf/stb)\n",
    "rp = 1e6/Rp # Producing cgr (stb/mmscf)\n",
    "p = 14.4\n",
    "t = 60\n",
    "ng_tot = p*Rp/(1*R*(t+460)) # Total moles gas produced per stb oil (lbm mol)\n",
    "ng = [ng_tot * y[i] for i in range(ncomps)] # Moles of gas components\n",
    "Vo = xv # STB of liquid components in 1stb oil\n",
    "no = [5.6146 * Vo[i]*rho_l[i]/MW[i] for i in range(ncomps)]\n",
    "n = [no[i]+ng[i] for i in range(ncomps)]\n",
    "tot_moles = sum(n)\n",
    "z = [n[i]/tot_moles for i in range(ncomps)]"
   ]
  },
  {
   "cell_type": "code",
   "execution_count": 6,
   "metadata": {},
   "outputs": [
    {
     "name": "stdout",
     "output_type": "stream",
     "text": [
      "Table B-7 - Oil Molar Composition and Recombined Wellstream Composition (Problem 4)\n",
      "\n",
      "Component    Gas Frac    Gas Moles    Oil Vol    Liq Dens    MW     Oil Moles    Total Moles    z\n",
      "-----------  ----------  -----------  ---------  ----------  -----  -----------  -------------  -----\n",
      "C1           0.968       31.2         0.02       18.726      16.04  0.131        31.331         0.912\n",
      "C2           0.01        0.322        0.006      28.089      30.07  0.031        0.354          0.01\n",
      "C3           0.011       0.355        0.011      31.66       44.09  0.044        0.399          0.012\n",
      "iC4          0.003       0.097        0.009      35.01       58.12  0.03         0.127          0.004\n",
      "nC4          0.003       0.097        0.013      36.45       58.12  0.046        0.142          0.004\n",
      "iC5          0.002       0.064        0.016      39.13       72.15  0.049        0.113          0.003\n",
      "nC5          0.001       0.032        0.01       39.3        72.15  0.031        0.063          0.002\n",
      "nC6          0.002       0.064        0.038      41.19       86.17  0.102        0.166          0.005\n",
      "C7+          0.0         0.0          0.877      48.33       144    1.653        1.653          0.048\n",
      "----         ----        ----         ----       ----        ----   ----         ----           ----\n",
      "             1.0                      1.0                           2.117        34.348         1.0\n"
     ]
    }
   ],
   "source": [
    "#Print out results\n",
    "from tabulate import tabulate\n",
    "print('Table B-7 - Oil Molar Composition and Recombined Wellstream Composition (Problem 4)\\n')\n",
    "header=['Component', 'Gas Frac', 'Gas Moles', 'Oil Vol', 'Liq Dens', 'MW', 'Oil Moles', 'Total Moles', 'z']\n",
    "result_table = []\n",
    "for i in range (ncomps):\n",
    "    result_table.append([names[i], y[i], round(ng[i],3), Vo[i], round(rho_l[i],3), MW[i], round(no[i],3), round(n[i],3), round(z[i],3)])\n",
    "result_table.append(['----', '----', '----', '----', '----', '----', '----', '----', '----'])\n",
    "result_table.append([' ', sum(y), ' ', sum(Vo), ' ', ' ', round(sum(no),3), round(sum(n),3), round(sum(z),3)])\n",
    "print(tabulate(result_table,headers=header))\n"
   ]
  },
  {
   "cell_type": "code",
   "execution_count": null,
   "metadata": {},
   "outputs": [],
   "source": []
  }
 ],
 "metadata": {
  "kernelspec": {
   "display_name": "Python 3",
   "language": "python",
   "name": "python3"
  },
  "language_info": {
   "codemirror_mode": {
    "name": "ipython",
    "version": 3
   },
   "file_extension": ".py",
   "mimetype": "text/x-python",
   "name": "python",
   "nbconvert_exporter": "python",
   "pygments_lexer": "ipython3",
   "version": "3.7.2"
  }
 },
 "nbformat": 4,
 "nbformat_minor": 2
}
