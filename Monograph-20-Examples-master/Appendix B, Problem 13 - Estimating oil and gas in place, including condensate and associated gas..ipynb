{
 "cells": [
  {
   "cell_type": "markdown",
   "metadata": {},
   "source": [
    "# Appendix B: Problem 13"
   ]
  },
  {
   "cell_type": "markdown",
   "metadata": {},
   "source": [
    "Estimation of OIIP and GIIP from scenario described by problems 11 and 12\n",
    "Assuming:\n",
    " - Constant temperature\n",
    " - Constant oil composition\n",
    " - Constant gas composition\n",
    " - Initial CGR = 40 stb/mmscf\n",
    " - Surface condensate gravity = 60 deg API (gamma_og = 0.739)\n",
    " - Surface gas gravity for reservoir gas slightly less than surface gas gravity for reservoir oil (gamma_gg = 0.80)"
   ]
  },
  {
   "cell_type": "code",
   "execution_count": 46,
   "metadata": {},
   "outputs": [],
   "source": [
    "# Given\n",
    "import math\n",
    "gor = 900 # scf/stb\n",
    "sg_gas_total = 0.85\n",
    "api_oil = 36 # deg API\n",
    "p1 = 3300 #psia\n",
    "t = 190 # deg F\n",
    "h1 = 7200 # ft ss\n",
    "top_structure = 6000 # ft ss\n",
    "gas_cap_depth = 6500 # ft ss\n",
    "woc = 7300 # ft ss\n",
    "HCPV = 40e6 # cuft/ft\n",
    "Pbub = 3090 # psia\n",
    "R = 10.73146 # Universal gas constant, psia-ft3/R-lbm mol\n",
    "dpdh = 0.2977 # Oil leg pressure gardient calculated in problem 12 (psi/ft)\n",
    "rho_ob = 45.29384474245426 # lbm/cuft, calculated in problem 12 (rho_po)\n",
    "\n",
    "#Assumed\n",
    "cgr = 40 # stb/mmscf\n",
    "gamma_og = 0.739\n",
    "gamma_gg = 0.80\n",
    "cond_api = 60"
   ]
  },
  {
   "cell_type": "code",
   "execution_count": 47,
   "metadata": {},
   "outputs": [],
   "source": [
    "# Gas and oil leg HCPV's\n",
    "Vphcg = HCPV*(gas_cap_depth - top_structure) # reservoir cf\n",
    "Vphco = HCPV*(woc - gas_cap_depth)/5.614583 # reservoir bbls\n",
    "\n",
    "# Condensate MW estimation\n",
    "Mo = 6084/(cond_api - 5.9)\n",
    "\n",
    "# Gas cap FWS gravity\n",
    "gamma_fws = (gamma_gg+4580*cgr*1e-6*gamma_og)/(1+133000*cgr*1e-6*(gamma_og/Mo)) # Eq 3.55\n",
    "\n",
    "Tpchc = 187 + 330 * gamma_fws - 71.5 * gamma_fws**2 # Eq 3.49a\n",
    "Ppchc = 706 - 51.7 * gamma_fws - 11.1 * gamma_fws**2 # Eq 3.49b\n",
    "\n",
    "# At GOC, P = Pbub = 3,090psia (calculated in Problem 12), so reduced properties are;\n",
    "Tpr_goc = (t+460)/Tpchc\n",
    "Ppr_goc = Pbub/Ppchc"
   ]
  },
  {
   "cell_type": "code",
   "execution_count": 48,
   "metadata": {},
   "outputs": [],
   "source": [
    "# Copying Hall-Yarborough Z factor solution from Problem 6\n",
    "from scipy.optimize import fsolve\n",
    "import math\n",
    "def fy(y, *args):\n",
    "    alpha, Pr, t = args\n",
    "    return -alpha * Pr + (y + y ** 2 + y ** 3 - y ** 4) / (1 - y) ** 3 - (14.76 * t - 9.76 * t ** 2 + 4.58 * t ** 3) * y ** 2 + (90.7 * t - 242.2 * t ** 2 + 42.4 * t ** 3) * y ** (2.18 + 2.82 * t)\n",
    "    \n",
    "def Zfac(Tr, Pr):\n",
    "    t = 1 / Tr\n",
    "    alpha = 0.06125 * t * math.exp(-1.2 * (1 - t) ** 2)\n",
    "    args = (alpha, Pr, t)\n",
    "    y = 0.001\n",
    "    y = fsolve(fy, y, args=args)\n",
    "    return alpha * Pr / y"
   ]
  },
  {
   "cell_type": "code",
   "execution_count": 49,
   "metadata": {},
   "outputs": [
    {
     "name": "stdout",
     "output_type": "stream",
     "text": [
      "                      Oil leg Avg Bo: 1.5327 rb/stb\n",
      "                    Gas Leg Avg 1/Bg: 200.2 dry scf/wet rcf\n",
      "     Total oil + Condensate in place: 3718.6 MM stb\n",
      "Total free + associated gas in place: 7.351 TCF\n"
     ]
    }
   ],
   "source": [
    "# Z-factor at GOC is\n",
    "Z_goc = Zfac(Tpr_goc, Ppr_goc)[0]\n",
    "\n",
    "# Gas density at GOC;\n",
    "Mg = gamma_fws * 28.97 # Average MW of gas cap = SG * Air MW\n",
    "rhog_goc = (Pbub * Mg)/(Z_goc * R * (t + 460))\n",
    "\n",
    "# Gas pressure gradient\n",
    "dpdh_g = rhog_goc/144 #(psi/ft)\n",
    "\n",
    "# Average gas cap pressure is then taken as half way up the gas leg\n",
    "Prg = Pbub - dpdh_g*(gas_cap_depth - top_structure)/2\n",
    "\n",
    "# Pseudo reduced pressure, Z-factor and 1/Bg at this average gas pressure\n",
    "Ppr = Prg / Ppchc\n",
    "Z = Zfac(Tpr_goc, Ppr)[0]\n",
    "Bg_wet = (Z * (t + 460) / (Prg * 35.37))\n",
    "one_on_Bg_wet = 1 / Bg_wet\n",
    "\n",
    "# Need to calculate the dry gas FVF\n",
    "Cog = 133000*gamma_og/Mo # Conversion from stock-tank condensate to equivalent surface gas scf/stb Eq 7.13 (Note: misprint in example incorrectly multiplies the MW when it should divide)\n",
    "Bgd = Bg_wet*(1+Cog*cgr*1e-6) # Dry gas expansion factor Eq 7.12\n",
    "one_on_Bg_dry = 1/Bgd\n",
    "\n",
    "# Next, average oil leg pressure and oil FVF at this pressure using Standing Correlation\n",
    "Pro = Pbub + dpdh * (woc - gas_cap_depth)/2\n",
    "sg_oil = 141.5/(131.5+ api_oil)\n",
    "A = gor * (sg_gas_total / sg_oil)**0.5 + 1.25*t\n",
    "Bob = 0.9759 + 12e-5*A**1.2 # Bubble point oil FVF, Eq 3.111\n",
    "\n",
    "# Next estimate understaurated oil FVF using an estimate of oil compressibility\n",
    "A = 1e-5 * (5*gor + 17.2 * t - 1180 * sg_gas_total + 12.61 * api_oil - 1433)\n",
    "Co = A/Pro # psi^-1 Eq 3.107\n",
    "Bo = Bob * math.exp(Co*(Pbub - Pro)) # Eq 3.105\n",
    "\n",
    "# Alternative 'more exact' approach offered\n",
    "Co_alt = 1e-6*math.exp((rho_ob + 0.004347*(Pro - Pbub)-79.1)/(1.141e-4*(Pro - Pbub)-12.938)) # Eq 3.109\n",
    "A_alt = Co_alt*Pro             # Eq 3.107 - **Note, I believe the worked example here is incorrect, as it doesnt use the 'more exact' Co\n",
    "Bo_alt = Bob*(Pbub/Pro)**A_alt #Eq 3.108\n",
    "\n",
    "# Initial OIP in oil column\n",
    "No = Vphco / Bo_alt # stb\n",
    "\n",
    "# Initial (dry) gas GIP\n",
    "Gg = Vphcg * one_on_Bg_dry  # GIIP (cuft), **Note example incorrectly has Vphco instead of Vphcg\n",
    "\n",
    "# Initial condensate in place in gas column\n",
    "Ng = Gg * cgr * 1e-6 # stb condensate\n",
    "\n",
    "# Initial gas in solution in oil column\n",
    "Go = No * gor # scf solution gas\n",
    "\n",
    "# Initial stock tank oil + condensate\n",
    "N = No + Ng\n",
    "\n",
    "# Initial Free gas + solution gas\n",
    "G = Gg + Go\n",
    "\n",
    "print('                      Oil leg Avg Bo:', round(Bo_alt,4), 'rb/stb')\n",
    "print('                    Gas Leg Avg 1/Bg:', round(one_on_Bg_dry,1), 'dry scf/wet rcf')\n",
    "print('     Total oil + Condensate in place:', round(No/1e6,1), 'MM stb')\n",
    "print('Total free + associated gas in place:', round(G/1e12,3), 'TCF')"
   ]
  },
  {
   "cell_type": "code",
   "execution_count": 50,
   "metadata": {},
   "outputs": [
    {
     "data": {
      "text/plain": [
       "0.804805847637417"
      ]
     },
     "execution_count": 50,
     "metadata": {},
     "output_type": "execute_result"
    }
   ],
   "source": [
    "Z"
   ]
  },
  {
   "cell_type": "code",
   "execution_count": null,
   "metadata": {},
   "outputs": [],
   "source": []
  }
 ],
 "metadata": {
  "kernelspec": {
   "display_name": "Python 3",
   "language": "python",
   "name": "python3"
  },
  "language_info": {
   "codemirror_mode": {
    "name": "ipython",
    "version": 3
   },
   "file_extension": ".py",
   "mimetype": "text/x-python",
   "name": "python",
   "nbconvert_exporter": "python",
   "pygments_lexer": "ipython3",
   "version": "3.7.2"
  }
 },
 "nbformat": 4,
 "nbformat_minor": 2
}
