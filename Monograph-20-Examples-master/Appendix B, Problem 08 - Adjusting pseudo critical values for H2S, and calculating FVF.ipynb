{
 "cells": [
  {
   "cell_type": "markdown",
   "metadata": {},
   "source": [
    "# Appendix B: Problem 8"
   ]
  },
  {
   "cell_type": "markdown",
   "metadata": {},
   "source": [
    "Given information - Components names, Molecular Weights & Molar Fractions"
   ]
  },
  {
   "cell_type": "code",
   "execution_count": 6,
   "metadata": {},
   "outputs": [],
   "source": [
    "names = ['CO2', 'H2S', 'C1', 'C2', 'C3', 'iC4', 'nC4', 'iC5', 'nC5', 'C6', 'C7+']\n",
    "z = [0.0112, 0.2609, 0.5575, 0.0760, 0.0433, 0.0061, 0.0137, 0.0033, 0.0052, 0.0053, 0.0175]\n",
    "M = [44.01, 34.08, 16.04, 30.07, 44.09, 58.12, 58.12, 72.15, 72.15, 86.17, 128.0]\n",
    "pc = [1070.6, 1306.0, 667.8, 707.8, 616.3, 529.1, 550.7, 490.4, 488.6, 436.9, 386.7]\n",
    "tc = [547.6, 672.4, 343.0, 549.8, 665.7, 734.7, 765.3, 828.8, 845.4, 913.4, 1099.5]\n",
    "R = 10.73146 # Universal gas constant, psia-ft3/R-lbm mol"
   ]
  },
  {
   "cell_type": "code",
   "execution_count": 20,
   "metadata": {},
   "outputs": [],
   "source": [
    "# Solution\n",
    "# Start with copying Hall-Yarborough Z factor solution from Problem 6\n",
    "from scipy.optimize import fsolve\n",
    "import math\n",
    "def fy(y, *args):\n",
    "    alpha, Pr, t = args\n",
    "    return -alpha * Pr + (y + y ** 2 + y ** 3 - y ** 4) / (1 - y) ** 3 - (14.76 * t - 9.76 * t ** 2 + 4.58 * t ** 3) * y ** 2 + (90.7 * t - 242.2 * t ** 2 + 42.4 * t ** 3) * y ** (2.18 + 2.82 * t)\n",
    "    \n",
    "def Zfac(Tr, Pr):\n",
    "    t = 1 / Tr\n",
    "    alpha = 0.06125 * t * math.exp(-1.2 * (1 - t) ** 2)\n",
    "    args = (alpha, Pr, t)\n",
    "    y = 0.001\n",
    "    y = fsolve(fy, y, args=args)\n",
    "    return alpha * Pr / y"
   ]
  },
  {
   "cell_type": "code",
   "execution_count": 21,
   "metadata": {},
   "outputs": [
    {
     "name": "stdout",
     "output_type": "stream",
     "text": [
      "Z Factor: 0.7804\n",
      "      Bg: 0.00499 cf/scf\n"
     ]
    }
   ],
   "source": [
    "# And solve equations 3.52\n",
    "eps = 120*((z[0]+z[1])**0.9-(z[0]+z[1])**1.6)+15*(z[1]**0.5-z[1]**4)\n",
    "ncomps = len(z)\n",
    "Tpc_star = sum(tc[i]*z[i] for i in range(ncomps))\n",
    "Tpc = Tpc_star - eps\n",
    "Ppc_star = sum(pc[i]*z[i] for i in range(ncomps))\n",
    "Ppc = Ppc_star*Tpc / (Tpc_star+z[1]*(1-z[1])*eps)\n",
    "\n",
    "p = 3050+14.65 #psia\n",
    "t = 236 #deg F\n",
    "\n",
    "Tpr = (t+460)/Tpc\n",
    "Ppr = p/Ppc\n",
    "Z = Zfac(Tpr, Ppr)[0]\n",
    "\n",
    "Bg = (14.65/520)*Z*(t+460)/p # Eq 3.38\n",
    "print('Z Factor:', round(Z,4))\n",
    "print('      Bg:', round(Bg,5), 'cf/scf')"
   ]
  },
  {
   "cell_type": "code",
   "execution_count": null,
   "metadata": {},
   "outputs": [],
   "source": []
  }
 ],
 "metadata": {
  "kernelspec": {
   "display_name": "Python 3",
   "language": "python",
   "name": "python3"
  },
  "language_info": {
   "codemirror_mode": {
    "name": "ipython",
    "version": 3
   },
   "file_extension": ".py",
   "mimetype": "text/x-python",
   "name": "python",
   "nbconvert_exporter": "python",
   "pygments_lexer": "ipython3",
   "version": "3.7.2"
  }
 },
 "nbformat": 4,
 "nbformat_minor": 2
}
