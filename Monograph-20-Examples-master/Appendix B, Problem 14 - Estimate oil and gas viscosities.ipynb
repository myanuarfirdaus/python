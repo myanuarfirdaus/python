{
 "cells": [
  {
   "cell_type": "markdown",
   "metadata": {},
   "source": [
    "# Appendix B: Problem 14"
   ]
  },
  {
   "cell_type": "markdown",
   "metadata": {},
   "source": [
    "Estimation of oil and gas viscosities at 2,500 psia and 190 deg F from scenario described by problems 11-13"
   ]
  },
  {
   "cell_type": "code",
   "execution_count": 6,
   "metadata": {},
   "outputs": [],
   "source": [
    "import math\n",
    "R = 10.73146 # Universal gas constant, psia-ft3/R-lbm mol\n",
    "\n",
    "#Assumed\n",
    "cgr = 40 # stb/mmscf\n",
    "gamma_og = 0.739\n",
    "gamma_gg = 0.80\n",
    "cond_api = 60\n",
    "\n",
    "# Given / Assumed\n",
    "sg_gas_total = 0.85\n",
    "p = 2500 #psia\n",
    "t = 190 # deg F\n",
    "api_oil = 36 # deg API"
   ]
  },
  {
   "cell_type": "code",
   "execution_count": 7,
   "metadata": {},
   "outputs": [],
   "source": [
    "# Standing corrleation for wet gas\n",
    "Tpchc = 187 + 330 * sg_gas_total - 71.5 * sg_gas_total**2\n",
    "Ppchc = 706 - 51.7*sg_gas_total - 11.1*sg_gas_total**2\n",
    "\n",
    "# And reduced properties are then\n",
    "Tpr = (t+460)/Tpchc\n",
    "Ppr = p/Ppchc\n",
    "\n",
    "# Gas MW\n",
    "Mg = 28.97 * sg_gas_total"
   ]
  },
  {
   "cell_type": "code",
   "execution_count": 8,
   "metadata": {},
   "outputs": [
    {
     "name": "stdout",
     "output_type": "stream",
     "text": [
      "Lucas Correlation Gas Vicosity: 0.021 cP\n"
     ]
    }
   ],
   "source": [
    "# Grabbing the same code we previously wrote for Lucas correlation in Problem 7\n",
    "squiggle = 9490*(Tpchc/(Mg**3*Ppchc**4))**(1/6)\n",
    "ugsc_squiggle = (0.807*Tpr**0.618-0.357*math.exp(-0.449*Tpr)+0.340*math.exp(-4.058*Tpr)+0.018)\n",
    "ugsc = ugsc_squiggle / squiggle\n",
    "A1 = 1.245e-3*math.exp(5.1726*Tpr**-0.3286)/Tpr\n",
    "A2 = A1 * (1.6553*Tpr - 1.2723)\n",
    "A3 = 0.4489*math.exp(3.0578*Tpr**-37.7332)/Tpr\n",
    "A4 = 1.7368*math.exp(2.231*Tpr**-7.6351)/Tpr\n",
    "A5 = 0.9425*math.exp(-0.1853*Tpr**0.4489)\n",
    "ug_on_ugsc = 1 + A1*Ppr**1.3088 / (A2*Ppr**A5 + (1 + A3*Ppr**A4)**-1)\n",
    "ug_lucas = ug_on_ugsc * ugsc\n",
    "print('Lucas Correlation Gas Vicosity:',round(ug_lucas,4), 'cP' )"
   ]
  },
  {
   "cell_type": "code",
   "execution_count": 9,
   "metadata": {},
   "outputs": [],
   "source": [
    "# Copying Hall-Yarborough Z factor solution from Problem 6\n",
    "from scipy.optimize import fsolve\n",
    "import math\n",
    "def fy(y, *args):\n",
    "    alpha, Pr, t = args\n",
    "    return -alpha * Pr + (y + y ** 2 + y ** 3 - y ** 4) / (1 - y) ** 3 - (14.76 * t - 9.76 * t ** 2 + 4.58 * t ** 3) * y ** 2 + (90.7 * t - 242.2 * t ** 2 + 42.4 * t ** 3) * y ** (2.18 + 2.82 * t)\n",
    "    \n",
    "def Zfac(Tr, Pr):\n",
    "    t = 1 / Tr\n",
    "    alpha = 0.06125 * t * math.exp(-1.2 * (1 - t) ** 2)\n",
    "    args = (alpha, Pr, t)\n",
    "    y = 0.001\n",
    "    y = fsolve(fy, y, args=args)\n",
    "    return alpha * Pr / y"
   ]
  },
  {
   "cell_type": "code",
   "execution_count": 10,
   "metadata": {},
   "outputs": [
    {
     "name": "stdout",
     "output_type": "stream",
     "text": [
      "Lee-Gonzalez Correlation Gas Vicosity: 0.0212 cP\n"
     ]
    }
   ],
   "source": [
    "# And using Lee Gonzalez correlation (Eq 3.65)\n",
    "A1 = (9.39 + 0.01607*Mg)*(t+460)**1.5/(209.2 + 19.26 *Mg + (t+460))\n",
    "A2 = 3.448 + (986.4/(t+460)) + 0.01009*Mg\n",
    "A3 = 2.447 - 0.2224*A2\n",
    "Z = Zfac(Tpr, Ppr)[0]\n",
    "rhog = p*Mg/(Z*R*(t+460))\n",
    "ug_lee = A1 *1e-4 * math.exp(A2*(rhog/62.4)**A3) # Eq 3.65a where rhog is in SG relative to water\n",
    "print('Lee-Gonzalez Correlation Gas Vicosity:',round(ug_lee,4), 'cP' )"
   ]
  },
  {
   "cell_type": "code",
   "execution_count": 11,
   "metadata": {},
   "outputs": [
    {
     "name": "stdout",
     "output_type": "stream",
     "text": [
      "Live oil viscoity: 0.5458 cP\n"
     ]
    }
   ],
   "source": [
    "# Now, oil viscosity. First the dead oil viscosity with Bergman Eq 3.119\n",
    "A0 = 22.33 - 0.194*api_oil + 0.00033*api_oil**2\n",
    "A1 = -3.20 + 0.0185 * api_oil\n",
    "uod = math.exp(math.exp(A0 + A1 * math.log(t + 310))) - 1 # Rearrangement of Eq 3.119, yes it is a double logarithm, not a misprint\n",
    "\n",
    "# Now, estimate solution gor with Standing correlation, assuming oil at bubble point\n",
    "Rs = sg_gas_total*(((0.055*p + 1.4)*10**(0.0125*api_oil))/10**(0.00091*t))**1.205 # ** Note: Example calculation missing the 1.205 exponent\n",
    "\n",
    "# And the live oil @ Pb using Chew & Connally correlation with Bergman equation constants\n",
    "A1 = math.exp(4.768 - 0.8359*math.log(Rs+300)) # Eq 3.125a\n",
    "A2 = 0.555 + 133.5/(Rs+300)\n",
    "uob = A1 * uod**A2\n",
    "print('Live oil viscoity:',round(uob,4), 'cP' )"
   ]
  },
  {
   "cell_type": "code",
   "execution_count": null,
   "metadata": {},
   "outputs": [],
   "source": []
  },
  {
   "cell_type": "code",
   "execution_count": null,
   "metadata": {},
   "outputs": [],
   "source": []
  }
 ],
 "metadata": {
  "kernelspec": {
   "display_name": "Python 3",
   "language": "python",
   "name": "python3"
  },
  "language_info": {
   "codemirror_mode": {
    "name": "ipython",
    "version": 3
   },
   "file_extension": ".py",
   "mimetype": "text/x-python",
   "name": "python",
   "nbconvert_exporter": "python",
   "pygments_lexer": "ipython3",
   "version": "3.7.2"
  }
 },
 "nbformat": 4,
 "nbformat_minor": 2
}
