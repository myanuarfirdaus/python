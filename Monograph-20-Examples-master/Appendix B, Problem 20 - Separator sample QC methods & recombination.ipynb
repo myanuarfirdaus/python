{
 "cells": [
  {
   "cell_type": "code",
   "execution_count": 28,
   "metadata": {},
   "outputs": [],
   "source": [
    "# As specified by the problem\n",
    "R = 10.73146 # Universal gas constant, psia-ft3/R-lbm mol\n",
    "\n",
    "# From table B-33\n",
    "name = ['CO2', 'N2', 'C1', 'C2', 'C3', 'iC4', 'nC4', 'iC5', 'nC5', 'C6', 'C7+']\n",
    "yi = [4.01, 0.85, 89.83, 2.88, 1.30, 0.32, 0.43, 0.15, 0.11, 0.07, 0.05]\n",
    "xi = [1.12, 0.03, 10.68, 2.56, 3.86, 2.60, 5.31, 3.88, 4.16, 7.58, 58.22]\n",
    "zi_reported = [3.84, 0.80, 85.12, 2.86, 1.45, 0.46, 0.72, 0.37, 0.35, 0.52, 3.51]\n",
    "ncomps = len(name)\n",
    "Ki_reported = [yi[i] / xi[i] for i in range(ncomps)]\n"
   ]
  },
  {
   "cell_type": "code",
   "execution_count": 29,
   "metadata": {},
   "outputs": [],
   "source": [
    "psep = 390 + 14.7 #psia\n",
    "tsep = 52 + 460 # deg R\n",
    "\n",
    "#From table 3.3\n",
    "bi = [652, 470, 300, 1145, 1799, 2037, 2153, 2368, 2480, 2738]\n",
    "Tbi = [194, 109, 94, 303, 416, 471, 491, 542, 557, 610 ]\n",
    "\n",
    "# Estimate parameters for C7+\n",
    "nc7p = 7.3 + 0.0075*(tsep - 460) + 0.0016*psep # Eq 3.161f, t is in deg F\n",
    "bc7p = 1013 + 324 * nc7p - 4.256 * nc7p**2 # Eq 3.161g\n",
    "Tbc7p = 301 + 59.85 * nc7p - 0.971*nc7p**2 # Eq 3.161h\n",
    "bi.append(bc7p)\n",
    "Tbi.append(Tbc7p)"
   ]
  },
  {
   "cell_type": "code",
   "execution_count": 30,
   "metadata": {},
   "outputs": [],
   "source": [
    "# Next, estimate Fi values\n",
    "# ** Note: Dialog suggests that equation 3.156 be used, but  Eq 3.161b (Standing low pressure K-values method) is used instead\n",
    "# This correlation is valid for Psep < 1,000 psia and Tsep < 200 deg F\n",
    "Fi = [bi[i]*(1/Tbi[i] - 1/tsep) for i in range(ncomps)]\n",
    "Kipsp = [Ki_reported[i]*psep for i in range(ncomps)]\n",
    "\n",
    "# Calculate Ki's from Standing correlation\n",
    "A0 = 1.2 + (4.5e-4*psep) + (15e-8*psep**2) # Eq 3.161d\n",
    "A1 = 0.890 - (1.7e-4*psep) - (3.5e-8*psep**2) # Eq 3.161e\n",
    "Ki_standing = [1/psep*10**(A0+A1*Fi[i]) for i in range(ncomps)]\n",
    "Standing_Kipsp = [Ki_standing[i]*psep for i in range(ncomps)]"
   ]
  },
  {
   "cell_type": "code",
   "execution_count": 31,
   "metadata": {},
   "outputs": [
    {
     "data": {
      "image/png": "[encoded data removed]",
      "text/plain": [
       "<Figure size 432x288 with 1 Axes>"
      ]
     },
     "metadata": {
      "needs_background": "light"
     },
     "output_type": "display_data"
    }
   ],
   "source": [
    "import matplotlib.pyplot as plt\n",
    "%matplotlib inline\n",
    "\n",
    "# ** Note: Fig B-1 is referenced, but I was uable to find it\n",
    "# Here is the plot\n",
    "fig = plt.figure()\n",
    "ax1 = fig.add_subplot(111)\n",
    "plt.yscale('log')\n",
    "ax1.scatter(Fi, Kipsp, s=10, c='b', marker=\"s\", label='Measured')\n",
    "ax1.scatter(Fi, Standing_Kipsp, s=10, c='r', marker=\"o\", label='Standing Correlation')\n",
    "plt.legend(loc='upper left');\n",
    "plt.grid()\n",
    "plt.title('Fig B-1: Reported & Correlated Ki*Psep vs Fi')\n",
    "plt.xlabel('Fi')\n",
    "plt.ylabel('Ki*Psep')\n",
    "plt.show()"
   ]
  },
  {
   "cell_type": "code",
   "execution_count": 35,
   "metadata": {},
   "outputs": [],
   "source": [
    "# Given Mosp and rho_osp (MW and density of separator oil)\n",
    "Mosp = 100.2 #lbm/lbm mol [calculated from sum(xi * MWi)]\n",
    "rho_osp = 45.28 #lbm/ft3 (Calculated from Standing-Katz - Eq 3.89 - 3.92)\n",
    "Rsp = 15357 # Separator GOR (scf/stb) - I assume this was meant to be given as it is usually a key measured parameter\n",
    "\n",
    "Fgsp = (1+(2130*rho_osp)/(Mosp*Rsp))**-1 # Eq 6.8\n",
    "zi_calc = [Fgsp*yi[i]+(1-Fgsp)*xi[i] for i in range(ncomps)]"
   ]
  },
  {
   "cell_type": "code",
   "execution_count": 38,
   "metadata": {},
   "outputs": [
    {
     "name": "stdout",
     "output_type": "stream",
     "text": [
      "Table B-33 Recombined Separator wellstream molar composition & consistency check of separator K values with Standing Low Pressure K-value correlation (Problem 20)\n",
      "Component        yi      xi    zi reported    zi calculated  Fi      Standing Ki    Reported Ki\n",
      "-----------  ------  ------  -------------  ---------------  ------  -------------  -------------\n",
      "CO2            4.01    1.12           3.84            3.84   2.087   3.17503        3.58036\n",
      "N2             0.85    0.03           0.8             0.802  3.394   36.91605       28.33333\n",
      "C1            89.83   10.68          85.12           85.162  2.606   8.4003         8.41105\n",
      "C2             2.88    2.56           2.86            2.861  1.543   1.14143        1.125\n",
      "C3             1.3     3.86           1.45            1.451  0.811   0.28891        0.33679\n",
      "iC4            0.32    2.6            0.46            0.454  0.346   0.12077        0.12308\n",
      "nC4            0.43    5.31           0.72            0.718  0.18    0.08835        0.08098\n",
      "iC5            0.15    3.88           0.37            0.37   -0.256  0.03898        0.03866\n",
      "nC5            0.11    4.16           0.35            0.349  -0.391  0.03023        0.02644\n",
      "C6             0.07    7.58           0.52            0.513  -0.859  0.01256        0.00923\n",
      "C7+            0.05   58.22           3.51            3.481  -2.01   0.00145        0.00086\n",
      "Total:       100     100            100             100\n"
     ]
    }
   ],
   "source": [
    "# And print results\n",
    "from tabulate import tabulate\n",
    "print('Table B-33 Recombined Separator wellstream molar composition & consistency check of separator K values with Standing Low Pressure K-value correlation (Problem 20)')\n",
    "header=['Component', 'yi', 'xi', 'zi reported', 'zi calculated', 'Fi', 'Standing Ki', 'Reported Ki']\n",
    "table = []\n",
    "for i in range(ncomps):\n",
    "    table.append([name[i], yi[i], xi[i], round(zi_reported[i],3), round(zi_calc[i],3), round(Fi[i],3), round(Ki_standing[i],5), round(Ki_reported[i],5)])\n",
    "table.append(['Total:', round(sum(yi),3),round(sum(xi),3), round(sum(zi_reported),3), round(sum(zi_calc),3), ' ', ' ', ' '])\n",
    "print(tabulate(table,headers=header))"
   ]
  },
  {
   "cell_type": "code",
   "execution_count": 40,
   "metadata": {},
   "outputs": [
    {
     "name": "stdout",
     "output_type": "stream",
     "text": [
      "Watson characterization factor of C7+: 11.582\n"
     ]
    }
   ],
   "source": [
    "# Watson charcterization factor of C7+ (asked to calculate, but example didn't)\n",
    "sg_c7p = 0.7783 # From Table B-33\n",
    "Kw = Tbi[-1]**(1/3)/sg_c7p #Eq 5.34\n",
    "print('Watson characterization factor of C7+:', round(Kw,3))"
   ]
  },
  {
   "cell_type": "code",
   "execution_count": null,
   "metadata": {},
   "outputs": [],
   "source": []
  }
 ],
 "metadata": {
  "kernelspec": {
   "display_name": "Python 3",
   "language": "python",
   "name": "python3"
  },
  "language_info": {
   "codemirror_mode": {
    "name": "ipython",
    "version": 3
   },
   "file_extension": ".py",
   "mimetype": "text/x-python",
   "name": "python",
   "nbconvert_exporter": "python",
   "pygments_lexer": "ipython3",
   "version": "3.7.2"
  }
 },
 "nbformat": 4,
 "nbformat_minor": 2
}
