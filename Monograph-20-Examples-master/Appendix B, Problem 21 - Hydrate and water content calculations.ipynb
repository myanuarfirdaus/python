{
 "cells": [
  {
   "cell_type": "code",
   "execution_count": 4,
   "metadata": {},
   "outputs": [],
   "source": [
    "# Defined seperator conditions\n",
    "import math\n",
    "psep = 1000 #psia\n",
    "sg = 0.7"
   ]
  },
  {
   "cell_type": "code",
   "execution_count": 13,
   "metadata": {},
   "outputs": [
    {
     "data": {
      "text/plain": [
       "25.748307121305565"
      ]
     },
     "execution_count": 13,
     "metadata": {},
     "output_type": "execute_result"
    }
   ],
   "source": [
    "# From Fig 9.29\n",
    "t_hydrate = 69 # deg F (reading off 0.7 sg and 1,000 psia it actually looks closer to 65 deg F, but we'll use what is written)\n",
    "\n",
    "# Water content in the gas at incipient hydrate formation is then\n",
    "Cs = 0 #(ppm) Assumed fresh water of condensation only\n",
    "As = 1 - (3.92e-9)*Cs**1.44 # Eq 9.23e (Note 9.23d is not recommended - see section 9)\n",
    "Ag = 1+(sg-0.55)/(1.55e4*sg*t_hydrate**-1.446 - 1.83e4*t_hydrate**-1.288) # 9.23c **Note: The last T in the denominator should be outside the bracket per original section 9 equation\n",
    "lnyw0 = (0.05227*psep + 142.3*math.log(psep)-9625)/(t_hydrate+460) - 1.117*math.log(psep)+16.44 # 9.23b\n",
    "yw0 = math.exp(lnyw0)\n",
    "yw = yw0*Ag*As\n",
    "rsw = 47300*yw/(1-yw) #Eq 9.24 in lbm/MMscf"
   ]
  },
  {
   "cell_type": "code",
   "execution_count": 14,
   "metadata": {},
   "outputs": [
    {
     "data": {
      "text/plain": [
       "4.072487688567146"
      ]
     },
     "execution_count": 14,
     "metadata": {},
     "output_type": "execute_result"
    }
   ],
   "source": [
    "# At 15 deg F and 1,000 psia\n",
    "tspec = 15\n",
    "pspec = 1000\n",
    "Ag_spec = 1+(sg-0.55)/(1.55e4*sg*tspec**-1.446 - 1.83e4*tspec**-1.288) # 9.23c\n",
    "lnyw0_spec = (0.05227*pspec + 142.3*math.log(pspec)-9625)/(tspec+460) - 1.117*math.log(psep)+16.44 # 9.23b\n",
    "yw0_spec = math.exp(lnyw0_spec)\n",
    "yw_spec = yw0_spec*Ag_spec*As\n",
    "rsw_spec = 47300*yw_spec/(1-yw_spec) #Eq 9.24 in lbm/MMscf\n",
    "rsw_spec"
   ]
  },
  {
   "cell_type": "code",
   "execution_count": 18,
   "metadata": {},
   "outputs": [
    {
     "name": "stdout",
     "output_type": "stream",
     "text": [
      "At separator rate of 65 mmscf/d, water removal capacity must be at least 1408.9 lbm/Day\n",
      "( 4.0 bwpd)\n"
     ]
    }
   ],
   "source": [
    "qg = 65 #mmscf/day\n",
    "print('At separator rate of',qg,'mmscf/d, water removal capacity must be at least',round((rsw-rsw_spec)*qg,1),'lbm/Day' )\n",
    "print('(',round((rsw-rsw_spec)*qg/8.32/42,1),'bwpd)')"
   ]
  }
 ],
 "metadata": {
  "kernelspec": {
   "display_name": "Python 3",
   "language": "python",
   "name": "python3"
  },
  "language_info": {
   "codemirror_mode": {
    "name": "ipython",
    "version": 3
   },
   "file_extension": ".py",
   "mimetype": "text/x-python",
   "name": "python",
   "nbconvert_exporter": "python",
   "pygments_lexer": "ipython3",
   "version": "3.7.2"
  }
 },
 "nbformat": 4,
 "nbformat_minor": 2
}
