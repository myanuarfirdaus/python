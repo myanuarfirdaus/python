{
 "cells": [
  {
   "cell_type": "markdown",
   "metadata": {},
   "source": [
    "# Appendix B: Problem 9"
   ]
  },
  {
   "cell_type": "markdown",
   "metadata": {},
   "source": [
    "Given information - Components names, Molecular Weights & Molar Fractions"
   ]
  },
  {
   "cell_type": "code",
   "execution_count": 2,
   "metadata": {},
   "outputs": [],
   "source": [
    "# Setup problem constraints\n",
    "R = 10.73146 # Universal gas constant, psia-ft3/R-lbm mol\n",
    "pr = 5200 #psia\n",
    "tr = 250 #deg F\n",
    "psp1 = 950 #psia\n",
    "tsp1 = 160 #deg F\n",
    "qg_prim = 4265 #mscf/d\n",
    "sg_prim = 0.70\n",
    "qo_tank = 370 #stb/d\n",
    "api_tank = 45"
   ]
  },
  {
   "cell_type": "code",
   "execution_count": 26,
   "metadata": {},
   "outputs": [
    {
     "name": "stdout",
     "output_type": "stream",
     "text": [
      "Total gas sg: 0.7133829933038295\n"
     ]
    }
   ],
   "source": [
    "# Solution\n",
    "\n",
    "# First step - Estimating additional gas in seperator oil and its specific gravity\n",
    "A1 =((psp1/18.2+1.4)*10**(0.0125*api_tank-0.00091*tsp1))**1.205 # Eq 3.61b\n",
    "A2 = 0.25+0.02*api_tank                                         # Note the worked example equation is incorrect, it should be 0.02*api_tank (per the original equation in Chapter 3)\n",
    "A3 = -3.57e-6*api_tank\n",
    "Rsplus = A1*A2/(1-A1*A3)\n",
    "sg_tank = A2 + A3*Rsplus\n",
    "R1 = qg_prim*1e3/qo_tank\n",
    "\n",
    "# Then total gas properties\n",
    "Rp = R1 + Rsplus   # scf/stb\n",
    "rp = 1e6/Rp        # stb/mmscf\n",
    "gamma_g = ((sg_prim*R1)+(sg_tank*Rsplus))/(R1+Rsplus) # total gas sg\n",
    "print('Total gas sg:',gamma_g )"
   ]
  },
  {
   "cell_type": "code",
   "execution_count": 29,
   "metadata": {},
   "outputs": [
    {
     "name": "stdout",
     "output_type": "stream",
     "text": [
      "Stock tank oil MW: 155.6010230179028\n",
      "Stock tank oil sg: 0.8016997167138811\n",
      "Full wellstream sg: 0.9654026539884318\n"
     ]
    }
   ],
   "source": [
    "# Use Cragoe correlation to estimate stock tank oil MW\n",
    "Mo = 6084/(api_tank-5.9)\n",
    "\n",
    "# and full wellstream gas properties\n",
    "gamma_o = 141.5/(131.5+api_tank)\n",
    "gamma_fws = (gamma_g+4580*rp*1e-6*gamma_o)/(1+133000*rp*1e-6*(gamma_o/Mo)) # Eq 3.55\n",
    "print('Stock tank oil MW:',Mo)\n",
    "print('Stock tank oil sg:', gamma_o)\n",
    "print('Full wellstream sg:', gamma_fws)"
   ]
  },
  {
   "cell_type": "code",
   "execution_count": 34,
   "metadata": {},
   "outputs": [],
   "source": [
    "# Sutton pseudocritical correlations\n",
    "Tpc = 169.2+349.5*gamma_fws-74.0*gamma_fws**2\n",
    "Ppc = 756.8-131.0*gamma_fws-3.6*gamma_fws**2\n",
    "\n",
    "Tpr = (tr+460)/Tpc\n",
    "Ppr = pr/Ppc"
   ]
  },
  {
   "cell_type": "code",
   "execution_count": 37,
   "metadata": {},
   "outputs": [],
   "source": [
    "# Copying Hall-Yarborough Z factor solution from Problem 6\n",
    "from scipy.optimize import fsolve\n",
    "import math\n",
    "def fy(y, *args):\n",
    "    alpha, Pr, t = args\n",
    "    return -alpha * Pr + (y + y ** 2 + y ** 3 - y ** 4) / (1 - y) ** 3 - (14.76 * t - 9.76 * t ** 2 + 4.58 * t ** 3) * y ** 2 + (90.7 * t - 242.2 * t ** 2 + 42.4 * t ** 3) * y ** (2.18 + 2.82 * t)\n",
    "    \n",
    "def Zfac(Tr, Pr):\n",
    "    t = 1 / Tr\n",
    "    alpha = 0.06125 * t * math.exp(-1.2 * (1 - t) ** 2)\n",
    "    args = (alpha, Pr, t)\n",
    "    y = 0.001\n",
    "    y = fsolve(fy, y, args=args)\n",
    "    return alpha * Pr / y"
   ]
  },
  {
   "cell_type": "code",
   "execution_count": 51,
   "metadata": {},
   "outputs": [
    {
     "name": "stdout",
     "output_type": "stream",
     "text": [
      "Initial daily voidage: 17823.2 cuft = 3174.4 bbls\n"
     ]
    }
   ],
   "source": [
    "Z = Zfac(Tpr, Ppr)[0]\n",
    "Cog = 133000*(gamma_o/Mo) # scf/stb\n",
    "# **Note, in following evaluation, I think that the example has incorrectly used seperator temperature instead of reservoir temperature\n",
    "Bgd = (14.7/520)*Z*(tr+460)/pr*(1+Cog/Rp) #Dry gas FVF = res gas vol / surface gas volume \n",
    "\n",
    "#Initial daily voidage\n",
    "delta_Vg = qo_tank * R1 * Bgd\n",
    "print('Initial daily voidage:', round(delta_Vg,1), 'cuft =', round(delta_Vg/5.614583,1), 'bbls')"
   ]
  },
  {
   "cell_type": "code",
   "execution_count": null,
   "metadata": {},
   "outputs": [],
   "source": []
  }
 ],
 "metadata": {
  "kernelspec": {
   "display_name": "Python 3",
   "language": "python",
   "name": "python3"
  },
  "language_info": {
   "codemirror_mode": {
    "name": "ipython",
    "version": 3
   },
   "file_extension": ".py",
   "mimetype": "text/x-python",
   "name": "python",
   "nbconvert_exporter": "python",
   "pygments_lexer": "ipython3",
   "version": "3.7.2"
  }
 },
 "nbformat": 4,
 "nbformat_minor": 2
}
