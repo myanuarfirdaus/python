{
 "cells": [
  {
   "cell_type": "markdown",
   "metadata": {},
   "source": [
    "# Appendix B: Problem 10"
   ]
  },
  {
   "cell_type": "markdown",
   "metadata": {},
   "source": [
    "Estimation of oil density at reservoir conditions from components"
   ]
  },
  {
   "cell_type": "code",
   "execution_count": 4,
   "metadata": {},
   "outputs": [],
   "source": [
    "# From table B-16\n",
    "names = ['CO2', 'C1', 'C2', 'C3', 'iC4', 'nC4', 'iC5', 'nC5', 'C6', 'C7+']\n",
    "z = [0.0111,  0.3950, 0.0969, 0.0784, 0.0159, 0.0372, 0.0123, 0.0211, 0.0295, 0.3026] # Note: C3 fraction is missing a decimal place in table B16\n",
    "# From table B-17\n",
    "M = [44.01, 16.04, 30.07, 44.09, 58.12, 58.12, 72.15, 72.15, 86.17, 182.0]\n",
    "rho = [0,0,0, 31.66, 35.01, 36.45, 39.13, 39.30, 41.19, 51.61]\n",
    "R = 10.73146 # Universal gas constant, psia-ft3/R-lbm mol"
   ]
  },
  {
   "cell_type": "code",
   "execution_count": 24,
   "metadata": {},
   "outputs": [
    {
     "name": "stdout",
     "output_type": "stream",
     "text": [
      "Reservoir oil density and bubble point: 37.17 lbm/ft3\n"
     ]
    }
   ],
   "source": [
    "# Solution\n",
    "ncomps = len(z)\n",
    "m = [z[i]*M[i] for i in range(ncomps)]\n",
    "V = [0]*ncomps\n",
    "for i in range(3, ncomps):\n",
    "    V[i] = m[i]/rho[i]\n",
    "\n",
    "Vc3plus = sum(V)\n",
    "mc2 = m[0]+m[2]\n",
    "mc2plus = sum(m[i] for i in range(3, ncomps))+mc2\n",
    "a = 0.3167 * Vc3plus\n",
    "b = mc2 - 0.3167 * mc2plus + 15.3 * Vc3plus\n",
    "c = -15.3 * mc2plus\n",
    "rho_c2plus = (-b+(b**2-4*a*c)**0.5)/(2*a) # Eq 3.95 (lbm/cuft)\n",
    "\n",
    "Vc2plus = Vc3plus + mc2/(15.3 + 0.3167 * rho_c2plus) # Eq 3.96 (ft3)\n",
    "mc1 = m[1]\n",
    "mc1plus = sum(m)\n",
    "a = 0.45 * Vc2plus\n",
    "b = mc1 - 0.45 * mc1plus + 0.312 * Vc2plus\n",
    "c = -0.312 * mc1plus\n",
    "rho_po = (-b+(b**2-4*a*c)**0.5)/(2*a) # Eq 3.97 (lbm/cuft)\n",
    "\n",
    "#Pressure corrections\n",
    "p = 3100 #psia\n",
    "t = 236 # deg F\n",
    "delta_rho_p = 1e-3*(0.167+(16.181*10**(-0.0425*rho_po)))*p - 1e-8*(0.299+(263*10**(-0.0603*rho_po)))*p**2 #Eq 3.98\n",
    "delta_rho_t = (t-60)*(0.0133+152.4*(rho_po + delta_rho_p)**-2.45) - (t-60)**2*(8.1e-6-(0.0622*10**(-0.0764*(rho_po + delta_rho_p))))\n",
    "\n",
    "# Oil density resultant\n",
    "rho_o = rho_po + delta_rho_p - delta_rho_t # Eq 3.89\n",
    "\n",
    "print('Reservoir oil density and bubble point:', round(rho_o, 2), 'lbm/ft3')"
   ]
  },
  {
   "cell_type": "code",
   "execution_count": null,
   "metadata": {},
   "outputs": [],
   "source": []
  }
 ],
 "metadata": {
  "kernelspec": {
   "display_name": "Python 3",
   "language": "python",
   "name": "python3"
  },
  "language_info": {
   "codemirror_mode": {
    "name": "ipython",
    "version": 3
   },
   "file_extension": ".py",
   "mimetype": "text/x-python",
   "name": "python",
   "nbconvert_exporter": "python",
   "pygments_lexer": "ipython3",
   "version": "3.7.2"
  }
 },
 "nbformat": 4,
 "nbformat_minor": 2
}
