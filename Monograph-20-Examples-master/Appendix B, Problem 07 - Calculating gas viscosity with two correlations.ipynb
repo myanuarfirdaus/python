{
 "cells": [
  {
   "cell_type": "markdown",
   "metadata": {},
   "source": [
    "##### Appendix B: Problem 7"
   ]
  },
  {
   "cell_type": "markdown",
   "metadata": {},
   "source": [
    "Given information - Components names, Molecular Weights & Molar Fractions\n",
    "\n",
    "*Note that there is a misprint in the Monograph equations for the evaluation of Lohrenz-Bray-Clark viscosity - corrected below in the 'squiggle_ti' list"
   ]
  },
  {
   "cell_type": "code",
   "execution_count": 2,
   "metadata": {},
   "outputs": [],
   "source": [
    "# From table B-9 (same data as provided for Problem 6)\n",
    "names = ['C1', 'C2', 'C3', 'iC4', 'nC4', 'iC5', 'nC5', 'C6', 'C7+']\n",
    "z = [0.875, 0.083, 0.021, 0.006, 0.008, 0.003, 0.002, 0.001, 0.001]\n",
    "R = 10.73146 # Universal gas constant, psia-ft3/R-lbm mol\n",
    "\n",
    "# From Table 10\n",
    "M = [16.04, 30.07, 44.09, 58.12, 58.12, 72.15, 72.15, 86.17, 114.0]\n",
    "pc = [667.8, 707.8, 616.3, 529.1, 550.7, 490.4, 488.6, 436.9, 360.6]\n",
    "tc = [343, 549.8, 665.7, 734.7, 765.3, 828.3, 845.4, 913.4, 1023.9]\n",
    "\n",
    "# From table B-11 (also available from table A-1A)\n",
    "vc = [1.59, 2.37, 3.25, 4.208, 4.08, 4.899, 4.87, 5.929, 7.882]\n",
    "zc = [0.2884, 0.2843, 0.2804, 0.2824, 0.2736, 0.2701, 0.2623, 0.2643, 0.2587]"
   ]
  },
  {
   "cell_type": "code",
   "execution_count": 51,
   "metadata": {},
   "outputs": [
    {
     "name": "stdout",
     "output_type": "stream",
     "text": [
      "              Lucas Correlation Vicosity: 0.0167 cP\n",
      "Lohrenz-Bray-Clark Correlation Viscosity: 0.0166 cP\n"
     ]
    }
   ],
   "source": [
    "# Solution\n",
    "import math\n",
    "ncomps = len(z)\n",
    "t = 160 # deg F\n",
    "p = 2000+14.7 #psia\n",
    "\n",
    "# Molar weighted critical temperature\n",
    "ztc = [z[i]*tc[i] for i in range(ncomps)]\n",
    "Tpc = sum(ztc)\n",
    "Tpr = (t + 460)/Tpc\n",
    "\n",
    "# Molar weighted Zc\n",
    "zzc = [z[i]*zc[i] for i in range(ncomps)]\n",
    "Zpc = sum(zzc)\n",
    "\n",
    "# Molar weighted vc\n",
    "zvc = [z[i]*vc[i] for i in range(ncomps)]\n",
    "vpc = sum(zvc)\n",
    "\n",
    "# Ppc calculated from Eq 3.67\n",
    "Ppc = R * Tpc * Zpc / vpc\n",
    "Ppr = p / Ppc\n",
    "\n",
    "# Average MW\n",
    "zM = [z[i]*M[i] for i in range(ncomps)]\n",
    "Mg = sum(zM)\n",
    "\n",
    "# Lucas correlation\n",
    "squiggle = 9490*(Tpc/(Mg**3*Ppc**4))**(1/6)\n",
    "ugsc_squiggle = (0.807*Tpr**0.618-0.357*math.exp(-0.449*Tpr)+0.340*math.exp(-4.058*Tpr)+0.018)\n",
    "ugsc = ugsc_squiggle / squiggle\n",
    "A1 = 1.245e-3*math.exp(5.1726*Tpr**-0.3286)/Tpr\n",
    "A2 = A1 * (1.6553*Tpr - 1.2723)\n",
    "A3 = 0.4489*math.exp(3.0578*Tpr**-37.7332)/Tpr\n",
    "A4 = 1.7368*math.exp(2.231*Tpr**-7.6351)/Tpr\n",
    "A5 = 0.9425*math.exp(-0.1853*Tpr**0.4489)\n",
    "ug_on_ugsc = 1 + A1*Ppr**1.3088 / (A2*Ppr**A5 + (1 + A3*Ppr**A4)**-1)\n",
    "ug_lucas = ug_on_ugsc * ugsc\n",
    "print('              Lucas Correlation Vicosity:',round(ug_lucas,4), 'cP' )\n",
    "\n",
    "# Lohrenz-Bray-Clark Correlation\n",
    "# Start with (re)calculating gas density using Hall-Yarborough Z factor from Problem 6\n",
    "from scipy.optimize import fsolve\n",
    "def fy(y, *args):\n",
    "    alpha, Pr, t = args\n",
    "    return -alpha * Pr + (y + y ** 2 + y ** 3 - y ** 4) / (1 - y) ** 3 - (14.76 * t - 9.76 * t ** 2 + 4.58 * t ** 3) * y ** 2 + (90.7 * t - 242.2 * t ** 2 + 42.4 * t ** 3) * y ** (2.18 + 2.82 * t)\n",
    "    \n",
    "def Zfac(Tr, Pr):\n",
    "    t = 1 / Tr\n",
    "    alpha = 0.06125 * t * math.exp(-1.2 * (1 - t) ** 2)\n",
    "    args = (alpha, Pr, t)\n",
    "    y = 0.001\n",
    "    y = fsolve(fy, y, args=args)\n",
    "    return alpha * Pr / y\n",
    "\n",
    "Z = Zfac(Tpr, Ppr)[0]\n",
    "rho_g = (p*Mg)/(Z*R*(t+460))\n",
    "\n",
    "rho_pr = (rho_g/Mg)*vpc # Eq 3.1333c\n",
    "squiggle_t = 5.35*(Tpc/(Mg**3*Ppc**4))**(1/6)\n",
    "Tr = [(t+460)/tc[i] for i in range(ncomps)] # Component reduced temperatures\n",
    "squiggle_ti = [5.35*(tc[i]/(M[i]**3*pc[i]**4))**(1/6) for i in range(ncomps)] # ** Note ** This equation is misprinted in the Monograph, the M**3 term should be in the denominator (like Eq 3.133b)\n",
    "u = [0]*ncomps\n",
    "for i in range(ncomps):\n",
    "    if Tr[i] <= 1.5:\n",
    "        u[i] = 34e-5*Tr[i]**0.94 / squiggle_ti[i]\n",
    "    else:\n",
    "        u[i] = 17.78e-5*(4.58*Tr[i]-1.67)**(5/8) / squiggle_ti[i]\n",
    "    \n",
    "u0 = sum(z[i]*u[i]*M[i]**0.5 for i in range(ncomps)) / sum(z[i]*M[i]**0.5 for i in range(ncomps)) # ugsc\n",
    "u_lohrenz = ((0.1023+0.023364*rho_pr+0.058533*rho_pr**2+-0.040758*rho_pr**3 + 0.0093324*rho_pr**4)**4 - 1e-4)/squiggle_t + u0\n",
    "\n",
    "print('Lohrenz-Bray-Clark Correlation Viscosity:',round(u_lohrenz,4), 'cP' )\n"
   ]
  },
  {
   "cell_type": "code",
   "execution_count": null,
   "metadata": {},
   "outputs": [],
   "source": []
  }
 ],
 "metadata": {
  "kernelspec": {
   "display_name": "Python 3",
   "language": "python",
   "name": "python3"
  },
  "language_info": {
   "codemirror_mode": {
    "name": "ipython",
    "version": 3
   },
   "file_extension": ".py",
   "mimetype": "text/x-python",
   "name": "python",
   "nbconvert_exporter": "python",
   "pygments_lexer": "ipython3",
   "version": "3.7.2"
  }
 },
 "nbformat": 4,
 "nbformat_minor": 2
}
