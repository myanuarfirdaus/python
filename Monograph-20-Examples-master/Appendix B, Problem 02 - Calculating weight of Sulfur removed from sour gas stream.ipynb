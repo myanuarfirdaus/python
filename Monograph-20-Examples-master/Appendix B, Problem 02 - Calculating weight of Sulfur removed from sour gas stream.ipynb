{
 "cells": [
  {
   "cell_type": "markdown",
   "metadata": {},
   "source": [
    "# Appendix B: Problem 2"
   ]
  },
  {
   "cell_type": "markdown",
   "metadata": {},
   "source": [
    "Given information - Components names, Molecular Weights & Molar Fractions"
   ]
  },
  {
   "cell_type": "code",
   "execution_count": 11,
   "metadata": {},
   "outputs": [
    {
     "data": {
      "text/plain": [
       "0.9999999999999999"
      ]
     },
     "execution_count": 11,
     "metadata": {},
     "output_type": "execute_result"
    }
   ],
   "source": [
    "names = ['CO2', 'H2S', 'C1', 'C2', 'C3', 'iC4', 'nC4', 'iC5', 'nC5', 'C6', 'C7+']\n",
    "z = [0.0112, 0.2609, 0.5575, 0.0760, 0.0433, 0.0061, 0.0137, 0.0033, 0.0052, 0.0053, 0.0175]\n",
    "R = 10.73146 # Universal gas constant, psia-ft3/R-lbm mol\n",
    "sum(z)"
   ]
  },
  {
   "cell_type": "code",
   "execution_count": 6,
   "metadata": {},
   "outputs": [
    {
     "name": "stdout",
     "output_type": "stream",
     "text": [
      "n: 2625.3 lbm mol\n"
     ]
    }
   ],
   "source": [
    "# Solution\n",
    "ncomps = len(M)\n",
    "p = 14.65\n",
    "t = 60\n",
    "n = (p*1e6)/(1*R*(t+460))\n",
    "print('n:',round(n, 1), 'lbm mol')"
   ]
  },
  {
   "cell_type": "code",
   "execution_count": 8,
   "metadata": {},
   "outputs": [
    {
     "name": "stdout",
     "output_type": "stream",
     "text": [
      "nH2S: 684.9  lbm mol\n"
     ]
    }
   ],
   "source": [
    "nh2s = z[1]*n\n",
    "print('nH2S:', round(nh2s, 1), ' lbm mol')"
   ]
  },
  {
   "cell_type": "code",
   "execution_count": 9,
   "metadata": {},
   "outputs": [
    {
     "name": "stdout",
     "output_type": "stream",
     "text": [
      "ns: 684.9  lbm mol\n"
     ]
    }
   ],
   "source": [
    "ns = z[1]*n\n",
    "print('ns:', round(ns, 1), ' lbm mol')"
   ]
  },
  {
   "cell_type": "code",
   "execution_count": 10,
   "metadata": {},
   "outputs": [
    {
     "name": "stdout",
     "output_type": "stream",
     "text": [
      "ms: 9.96  long tons / 1,000 Mscf produced gas\n"
     ]
    }
   ],
   "source": [
    "Ms = 32\n",
    "ms = ns*Ms/2200\n",
    "print('ms:', round(ms, 2), ' long tons / 1,000 Mscf produced gas')"
   ]
  }
 ],
 "metadata": {
  "kernelspec": {
   "display_name": "Python 3",
   "language": "python",
   "name": "python3"
  },
  "language_info": {
   "codemirror_mode": {
    "name": "ipython",
    "version": 3
   },
   "file_extension": ".py",
   "mimetype": "text/x-python",
   "name": "python",
   "nbconvert_exporter": "python",
   "pygments_lexer": "ipython3",
   "version": "3.7.2"
  }
 },
 "nbformat": 4,
 "nbformat_minor": 2
}
