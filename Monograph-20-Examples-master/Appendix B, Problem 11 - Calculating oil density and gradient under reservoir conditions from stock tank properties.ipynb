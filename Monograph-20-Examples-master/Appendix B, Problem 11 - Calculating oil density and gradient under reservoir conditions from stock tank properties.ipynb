{
 "cells": [
  {
   "cell_type": "markdown",
   "metadata": {},
   "source": [
    "# Appendix B: Problem 11"
   ]
  },
  {
   "cell_type": "markdown",
   "metadata": {},
   "source": [
    "Estimation of oil density at reservoir conditions from produced gravities"
   ]
  },
  {
   "cell_type": "code",
   "execution_count": 11,
   "metadata": {},
   "outputs": [
    {
     "name": "stdout",
     "output_type": "stream",
     "text": [
      "In situ oil density: 42.9 lbm/ft3\n",
      "Oil pressure gradient: 0.298 psi/ft\n",
      "Pressure at 6000 ft:  2942.8\n"
     ]
    }
   ],
   "source": [
    "# Given\n",
    "import math\n",
    "gor = 900 # scf/stb\n",
    "sg_gas_total = 0.85\n",
    "api_oil = 36 # deg API\n",
    "p1 = 3300 #psia\n",
    "t = 190 # deg F\n",
    "h1 = 7200 # ft ss\n",
    "h2 = 6000 # ft ss\n",
    "\n",
    "# Solution\n",
    "sg_o = 141.5/(131.5+ api_oil)\n",
    "rho_ga = 38.52*10**(-0.00326*api_oil)+(94.75-33.93*math.log10(api_oil))*math.log10(sg_gas_total) # Eq 3.101 (lbm/ft3)\n",
    "rho_po = (62.4*sg_o+0.0136*gor*sg_gas_total)/(1+0.0136*(gor*sg_gas_total/rho_ga))                # Eq 3.100 (lbm/ft3)\n",
    "\n",
    "delta_rho_p = 1e-3*(0.167+(16.181*10**(-0.0425*rho_po)))*p1 - 1e-8*(0.299+(263*10**(-0.0603*rho_po)))*p1**2 #Eq 3.98\n",
    "delta_rho_t = (t-60)*(0.0133+152.4*(rho_po + delta_rho_p)**-2.45) - (t-60)**2*(8.1e-6-(0.0622*10**(-0.0764*(rho_po + delta_rho_p)))) # Eq 3.99\n",
    "\n",
    "# Oil density resultant\n",
    "rho_o = rho_po + delta_rho_p - delta_rho_t # Eq 3.89\n",
    "\n",
    "# Oil pressure gradient\n",
    "dpdh = rho_o/144 # psi/ft\n",
    "\n",
    "# Assuming continuous oil column, pressure at h2 is\n",
    "p2 = p1 - dpdh*(h1 - h2)\n",
    "\n",
    "# Results\n",
    "print('In situ oil density:',round(rho_o,1), 'lbm/ft3' )\n",
    "print('Oil pressure gradient:',round(dpdh,3), 'psi/ft' )\n",
    "print('Pressure at',h2, 'ft: ', round(p2,1) )"
   ]
  },
  {
   "cell_type": "code",
   "execution_count": null,
   "metadata": {},
   "outputs": [],
   "source": []
  }
 ],
 "metadata": {
  "kernelspec": {
   "display_name": "Python 3",
   "language": "python",
   "name": "python3"
  },
  "language_info": {
   "codemirror_mode": {
    "name": "ipython",
    "version": 3
   },
   "file_extension": ".py",
   "mimetype": "text/x-python",
   "name": "python",
   "nbconvert_exporter": "python",
   "pygments_lexer": "ipython3",
   "version": "3.7.2"
  }
 },
 "nbformat": 4,
 "nbformat_minor": 2
}
