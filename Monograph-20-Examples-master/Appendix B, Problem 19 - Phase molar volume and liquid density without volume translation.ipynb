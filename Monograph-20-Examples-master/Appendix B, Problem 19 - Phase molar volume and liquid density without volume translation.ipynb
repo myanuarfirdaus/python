{
 "cells": [
  {
   "cell_type": "code",
   "execution_count": 36,
   "metadata": {},
   "outputs": [],
   "source": [
    "# As specified by the problem\n",
    "# ** Note: It asserts that these values came from Problem 18, yet the liquid molecular weight defined is incorrect\n",
    "# This can be manually ascertained by sumproduct of the final xi's fom table B-30 with the MW's in Table B-28\n",
    "# as is actually done in the example toward the end - Ignore the Ml value defined up front!\n",
    "\n",
    "vl = 2.721 #ft3/lbm mol\n",
    "vv = 13.837 #ft3/lbm mol\n",
    "\n",
    "R = 10.73146 # Universal gas constant, psia-ft3/R-lbm mol\n",
    "\n",
    "# Flash solutions given in Table B-30 at end of first flash for Problem 18 at 500 psi and 280 deg F\n",
    "yi = [0.57114, 0.41253, 0.01633]\n",
    "xi = [0.08588, 0.46349, 0.45064]"
   ]
  },
  {
   "cell_type": "code",
   "execution_count": 30,
   "metadata": {},
   "outputs": [],
   "source": [
    "# Re-setup the component list from Problem 18\n",
    "\n",
    "#Create a component class object to track all values togeather\n",
    "#note - the bip variable expects a list of length = 4, for the bip's associated with the components and N2, CO2, H2S and CH4 respectively\n",
    "class comp:\n",
    "    def __init__ (self, name, M, gamma, rhosc, Pc, Tc, vc, w, tb, L, H, s, bip):\n",
    "        self.name = name\n",
    "        self.M = M\n",
    "        self.gamma = gamma\n",
    "        self.rhosc = rhosc\n",
    "        self.Pc = Pc\n",
    "        self.Tc = Tc\n",
    "        self.vc = vc\n",
    "        self.w = w\n",
    "        self.tb = tb\n",
    "        self.L = L\n",
    "        self.H = H\n",
    "        self.s = s\n",
    "        self.bip = bip\n",
    "        \n",
    "    def zc(self):\n",
    "        global R\n",
    "        return (self.Pc)*(self.vc)/(R*(self.Tc))\n",
    "\n",
    "comp_lib = [0]*18\n",
    "#From Tables A-1A, 4.3 & A-3 in Oilfield Units \n",
    "#                  Name,  MW.   SG,   rhosc,  Pc,   Tc,    vc,     w,     tb,    L, H,  s=v/d,    bic\n",
    "comp_lib[0] = comp('N2', 28.02, 28.02/28.97, 29.31, 493.0, 227.3, 1.443, 0.0450, 139.3, 0, 0, -0.1927, [0,0,0,0])\n",
    "comp_lib[1] = comp('CO2', 44.01, 44.01/28.97, 31.18, 1070.6, 547.6, 1.505, 0.2310, 350.4, 0, 0, -0.0817, [0,0,0,0])\n",
    "comp_lib[2] = comp('H2S', 34.08, 34.08/28.97, 31.18, 1306.0, 672.4, 1.564, 0.10, 383.1, 0,672.0, -0.1288, [0.13,0.135,0,0])\n",
    "comp_lib[3] = comp('C1', 16.04, 0.33, 20.58, 667.8, 343.0, 1.59, 0.0115, 201, 0, 1012.0, -0.1595, [0.025,0.105,0.07,0])\n",
    "comp_lib[4] = comp('C2', 30.07, 0.45, 28.06, 707.8, 549.8, 2.37, 0.0908, 332.2, 0, 1783.0, -0.1134, [0.01,0.13,0.085,0])\n",
    "comp_lib[5] = comp('C3', 44.09, 0.5077, 31.66, 616.3, 665.7, 3.25, 0.1454, 416.0, 27.4, 2557.0, -0.0863, [0.09,0.125,0.08,0])\n",
    "comp_lib[6] = comp('iC4', 58.12, 0.5613, 35.01, 529.1, 734.7, 4.208, 0.1756, 470.6, 32.7, 3354.0, -0.0844, [0.095,0.12,0.075,0])\n",
    "comp_lib[7] = comp('nC4', 58.12, 0.5844, 36.45, 550.7, 765.3, 4.08, 0.1928, 490.8, 31.4, 3369.0, -0.0675, [0.095,0.115,0.075,0])\n",
    "comp_lib[8] = comp('iC5', 72.15, 0.6274, 39.13, 490.4, 828.8, 4.899, 0.2273, 541.8, 36.3, 4001.0, -0.0608, [0.1,0.115,0.07,0])\n",
    "comp_lib[9] = comp('nC5', 72.15, 0.6301, 39.30, 488.6, 845.4, 4.870, 0.2510, 556.6, 36.2, 4009.0, -0.0390, [0.11,0.115,0.07,0])\n",
    "comp_lib[10] = comp('C6', 86.17, 0.6604, 41.19, 436.9, 913.4, 5.929, 0.2957, 615.4, 41.2, 4756.0, -0.0080, [0.11,0.115,0.055,0])\n",
    "comp_lib[11] = comp('C7', 100.2, 0.6828, 42.58, 396.8, 972.5, 6.924, 0.3506, 668.8, 46.3, 5503.0, 0.0033, [0.11,0.115,0.05,0])\n",
    "comp_lib[12] = comp('C8', 114.2, 0.7086, 44.19, 360.6, 1023.9, 7.882, 0.3978, 717.9, 50.9, 6250.0, 0.0314, [0.11,0.115,0.048,0])\n",
    "comp_lib[13] = comp('C9', 128.3, 0.7271, 45.35, 332.0, 1070.3, 8.773, 0.4437, 763.1, 55.7, 6996.0, 0.0408, [0.11,0.115,0.046,0])\n",
    "comp_lib[14] = comp('C10', 142.29, 0.7324, 45.68, 304.0, 1111.8, 9.661, 0.4902, 805.2, 61.4, 7743.0, 0.0655, [0.11,0.115,0.045,0])\n",
    "comp_lib[15] = comp('Air', 28.97, 1, 29.31, 547.0, 239.0, 1.364, 0.04, 141.9, 0, 0, 0, [0.0,0.0,0.0,0.0])\n",
    "comp_lib[16] = comp('H2O', 18.02, 1.00, 62.37, 3206.0, 1165.0, 0.916, 0.344, 671.6, 0, 0, 0,  [0.0,0.0,0.0,0.0])\n",
    "comp_lib[17] = comp('O2', 32.0, 32.0/28.97, 31.18, 732.0, 278.0, 1.174, 0.025, 162.2, 0, 0, 0,  [0.0,0.0,0.0,0.0])"
   ]
  },
  {
   "cell_type": "code",
   "execution_count": 31,
   "metadata": {},
   "outputs": [],
   "source": [
    "# Calculate ai required for P-R EOS formulation\n",
    "def ai_calc(w, Tc, Pc, t, p):\n",
    "    global R\n",
    "    if w <= 0.49:\n",
    "        m = 0.37464+1.54226*w-0.26992*w**2 #Eq 4.21\n",
    "    else:\n",
    "        m = 0.3796+1.485*w-0.1644*w**2+0.01667*w**3 # Eq 4.22\n",
    "    Tr=t/Tc\n",
    "    alpha=(1+m*(1-Tr**0.5))**2\n",
    "    a = 0.45724*R**2*Tc**2*alpha/Pc\n",
    "    return a\n",
    "\n",
    "# Calculate bi required for P-R EOS formulation\n",
    "def bi_calc(Tc, Pc):\n",
    "    global R\n",
    "    b = 0.07780*R*Tc/Pc\n",
    "    return b"
   ]
  },
  {
   "cell_type": "code",
   "execution_count": 37,
   "metadata": {},
   "outputs": [],
   "source": [
    "t = 280 + 470 # deg R\n",
    "p = 500 # psia\n",
    "\n",
    "# Build components list for Problem 18\n",
    "comps = []\n",
    "comps.append(comp_lib[3])\n",
    "comps.append(comp_lib[7])\n",
    "comps.append(comp_lib[14])\n",
    "ncomps = len(comps)\n",
    "\n",
    "# And molar fractions\n",
    "z = [0.5, 0.42, 0.08]"
   ]
  },
  {
   "cell_type": "code",
   "execution_count": 38,
   "metadata": {},
   "outputs": [],
   "source": [
    "# Calculate bi's and ci's\n",
    "bi = [bi_calc(item.Tc, item.Pc) for item in comps]\n",
    "ci = [bi[i]*comps[i].s for i in range(ncomps)]"
   ]
  },
  {
   "cell_type": "code",
   "execution_count": 34,
   "metadata": {},
   "outputs": [
    {
     "name": "stdout",
     "output_type": "stream",
     "text": [
      "Liquid molar volume without volume translation: 2.769  ft3/lbm mol\n"
     ]
    }
   ],
   "source": [
    "# Liquid volume without volume translation vl_eos\n",
    "vl_eos = vl + sum(xi[i]*ci[i] for i in range(ncomps))\n",
    "print('Liquid molar volume without volume translation:', round(vl_eos,3),' ft3/lbm mol')"
   ]
  },
  {
   "cell_type": "code",
   "execution_count": 35,
   "metadata": {},
   "outputs": [
    {
     "name": "stdout",
     "output_type": "stream",
     "text": [
      "Liquid molecular weight: 92.44 lbm/lbm mol\n",
      "Uncorrected Liquid density: 33.38 lbm/ft3 = 0.535 sg ( 133.0 deg API)\n",
      "  Corrected Liquid density: 33.97 lbm/ft3 = 0.544 sg ( 128.4 deg API)\n"
     ]
    }
   ],
   "source": [
    "# Molecular weight of liquid (here we get the correct Ml, not sure why it was previoulsy define differently)\n",
    "Ml = sum(xi[i] * comps[i].M for i in range(ncomps))\n",
    "print('Liquid molecular weight:', round(Ml,2),'lbm/lbm mol')\n",
    "print('Uncorrected Liquid density:', round(Ml/vl_eos,2),'lbm/ft3 =', round(Ml/vl_eos/62.4,3), 'sg (', round((141.5/(Ml/vl_eos/62.4)) -131.5,1), 'deg API)' )\n",
    "print('  Corrected Liquid density:', round(Ml/vl,2),'lbm/ft3 =', round(Ml/vl/62.4,3), 'sg (', round((141.5/(Ml/vl/62.4)) -131.5,1), 'deg API)' )"
   ]
  },
  {
   "cell_type": "code",
   "execution_count": null,
   "metadata": {},
   "outputs": [],
   "source": []
  }
 ],
 "metadata": {
  "kernelspec": {
   "display_name": "Python 3",
   "language": "python",
   "name": "python3"
  },
  "language_info": {
   "codemirror_mode": {
    "name": "ipython",
    "version": 3
   },
   "file_extension": ".py",
   "mimetype": "text/x-python",
   "name": "python",
   "nbconvert_exporter": "python",
   "pygments_lexer": "ipython3",
   "version": "3.7.2"
  }
 },
 "nbformat": 4,
 "nbformat_minor": 2
}
