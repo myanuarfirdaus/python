{
 "cells": [
  {
   "cell_type": "markdown",
   "metadata": {},
   "source": [
    "##### Appendix B: Problem 6"
   ]
  },
  {
   "cell_type": "markdown",
   "metadata": {},
   "source": [
    "Given information - Components names, Molecular Weights & Molar Fractions"
   ]
  },
  {
   "cell_type": "code",
   "execution_count": 23,
   "metadata": {},
   "outputs": [],
   "source": [
    "# From table B-9\n",
    "names = ['C1', 'C2', 'C3', 'iC4', 'nC4', 'iC5', 'nC5', 'C6', 'C7+']\n",
    "y = [0.875, 0.083, 0.021, 0.006, 0.008, 0.003, 0.002, 0.001, 0.001]\n",
    "R = 10.73146 # Universal gas constant, psia-ft3/R-lbm mol\n",
    "\n",
    "# From Table 10\n",
    "z = y\n",
    "M = [16.04, 30.07, 44.09, 58.12, 58.12, 72.15, 72.15, 86.17, 114.0]\n",
    "pc = [667.8, 707.8, 616.3, 529.1, 550.7, 490.4, 488.6, 436.9, 360.6]\n",
    "tc = [343, 549.8, 665.7, 734.7, 765.3, 828.3, 845.4, 913.4, 1023.9]"
   ]
  },
  {
   "cell_type": "code",
   "execution_count": 24,
   "metadata": {},
   "outputs": [],
   "source": [
    "# Solution\n",
    "ncomps = len(y)\n",
    "zM = [z[i]*M[i] for i in range(ncomps)]\n",
    "zpc = [z[i]*pc[i] for i in range(ncomps)]\n",
    "ztc = [z[i]*tc[i] for i in range(ncomps)]\n",
    "Mg = sum(zM)\n",
    "Tpc = sum(ztc)\n",
    "Ppc = sum(zpc)\n",
    "sg = Mg/28.97\n",
    "t = 160 # deg F\n",
    "Tpr = (t + 460)/Tpc\n",
    "p = 2000+14.7\n",
    "Ppr = p/Ppc"
   ]
  },
  {
   "cell_type": "markdown",
   "metadata": {},
   "source": [
    "Programming up the Hall Yarborough Z-factor equation, leveraging the Python fsolve solving algorithm."
   ]
  },
  {
   "cell_type": "code",
   "execution_count": 25,
   "metadata": {},
   "outputs": [],
   "source": [
    "# Hall-Yarborough equation - Section 3.3.2\n",
    "import math\n",
    "from scipy.optimize import fsolve\n",
    "\n",
    "def fy(y, *args):\n",
    "    alpha, Pr, t = args\n",
    "    return -alpha * Pr + (y + y ** 2 + y ** 3 - y ** 4) / (1 - y) ** 3 - (14.76 * t - 9.76 * t ** 2 + 4.58 * t ** 3) * y ** 2 + (90.7 * t - 242.2 * t ** 2 + 42.4 * t ** 3) * y ** (2.18 + 2.82 * t)\n",
    "    \n",
    "def Zfac(Tr, Pr):\n",
    "    t = 1 / Tr\n",
    "    alpha = 0.06125 * t * math.exp(-1.2 * (1 - t) ** 2)\n",
    "    args = (alpha, Pr, t)\n",
    "    y = 0.001\n",
    "    y = fsolve(fy, y, args=args)\n",
    "    return alpha * Pr / y"
   ]
  },
  {
   "cell_type": "code",
   "execution_count": 26,
   "metadata": {},
   "outputs": [],
   "source": [
    "Z = Zfac(Tpr, Ppr)[0]\n",
    "rho_g = (p*Mg)/(Z*R*(t+460))\n",
    "one_on_bg = 1 / (Z * (t + 460) / (p * 35.37))"
   ]
  },
  {
   "cell_type": "code",
   "execution_count": 27,
   "metadata": {},
   "outputs": [],
   "source": [
    "Tpchc = 169.2 + 349.5*sg - 74*sg**2\n",
    "Ppchc = 756.8 - 131*sg - 3.6 * sg**2\n",
    "Tprhc = (t+460)/Tpchc\n",
    "Pprhc = p/Ppchc\n",
    "Zhc = Zfac(Tprhc, Pprhc)[0]\n",
    "rho_ghc = (p*Mg)/(Zhc*R*(t+460))\n",
    "one_on_bg_hc = 1 / (Zhc * (t + 460) / (p * 35.37))"
   ]
  },
  {
   "cell_type": "code",
   "execution_count": 28,
   "metadata": {},
   "outputs": [
    {
     "name": "stdout",
     "output_type": "stream",
     "text": [
      "Problem 6 Summary Results\n",
      "\n",
      "Method                Gas MW    sg        Tpc      Ppc      Tpr      Ppr         Z     1/Bg     Rhog\n",
      "--------------------  --------  ----  -------  -------  -------  -------  --------  -------  -------\n",
      "From Composition      18.8313   0.65  376.382  666.841  1.64726  3.02126  0.845176  135.99   6.74673\n",
      "From SG Correlations                  365.117  670.125  1.69809  3.00645  0.86427   132.986  6.59767\n"
     ]
    }
   ],
   "source": [
    "#Print out results\n",
    "from tabulate import tabulate\n",
    "print('Problem 6 Summary Results'+'\\n')\n",
    "header=['Method', 'Gas MW', 'sg','Tpc', 'Ppc',  'Tpr', 'Ppr', 'Z', '1/Bg', 'Rhog']\n",
    "result_table = [['From Composition', Mg, round(sg,4),Tpc, Ppc,  Tpr, Ppr, Z, one_on_bg, rho_g]]\n",
    "result_table.append(['From SG Correlations', ' ', ' ', Tpchc, Ppchc,  Tprhc, Pprhc, Zhc, one_on_bg_hc, rho_ghc])\n",
    "print(tabulate(result_table,headers=header))"
   ]
  },
  {
   "cell_type": "code",
   "execution_count": null,
   "metadata": {},
   "outputs": [],
   "source": []
  }
 ],
 "metadata": {
  "kernelspec": {
   "display_name": "Python 3",
   "language": "python",
   "name": "python3"
  },
  "language_info": {
   "codemirror_mode": {
    "name": "ipython",
    "version": 3
   },
   "file_extension": ".py",
   "mimetype": "text/x-python",
   "name": "python",
   "nbconvert_exporter": "python",
   "pygments_lexer": "ipython3",
   "version": "3.7.2"
  }
 },
 "nbformat": 4,
 "nbformat_minor": 2
}
