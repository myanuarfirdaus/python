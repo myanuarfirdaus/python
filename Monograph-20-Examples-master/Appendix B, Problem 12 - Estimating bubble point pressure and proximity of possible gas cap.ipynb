{
 "cells": [
  {
   "cell_type": "markdown",
   "metadata": {},
   "source": [
    "# Appendix B: Problem 12"
   ]
  },
  {
   "cell_type": "markdown",
   "metadata": {},
   "source": [
    "Estimation of bubble point pressure and gas cap possibility"
   ]
  },
  {
   "cell_type": "code",
   "execution_count": 1,
   "metadata": {},
   "outputs": [
    {
     "name": "stdout",
     "output_type": "stream",
     "text": [
      "Oil leg gradient: 0.2977 psi/ft\n",
      "Bubble point depth: 6495.7 ft\n",
      "Possible gas cap exists of height: 495.7 ft\n"
     ]
    }
   ],
   "source": [
    "# Given\n",
    "import math\n",
    "gor = 900 # scf/stb\n",
    "sg_gas_total = 0.85\n",
    "api_oil = 36 # deg API\n",
    "p1 = 3300 #psia\n",
    "t = 190 # deg F\n",
    "h1 = 7200 # ft ss\n",
    "top_structure = 6000 #ft ss\n",
    "\n",
    "# Worked oil density and gradient from problem 11\n",
    "sg_o = 141.5/(131.5+ api_oil)\n",
    "rho_ga = 38.52*10**(-0.00326*api_oil)+(94.75-33.93*math.log10(api_oil))*math.log10(sg_gas_total) # Eq 3.101 (lbm/ft3)\n",
    "rho_po = (62.4*sg_o+0.0136*gor*sg_gas_total)/(1+0.0136*(gor*sg_gas_total/rho_ga))                # Eq 3.100 (lbm/ft3)\n",
    "\n",
    "delta_rho_p = 1e-3*(0.167+(16.181*10**(-0.0425*rho_po)))*p1 - 1e-8*(0.299+(263*10**(-0.0603*rho_po)))*p1**2 #Eq 3.98\n",
    "delta_rho_t = (t-60)*(0.0133+152.4*(rho_po + delta_rho_p)**-2.45) - (t-60)**2*(8.1e-6-(0.0622*10**(-0.0764*(rho_po + delta_rho_p)))) # Eq 3.99\n",
    "\n",
    "# Oil density resultant\n",
    "rho_o = rho_po + delta_rho_p - delta_rho_t # Eq 3.89\n",
    "\n",
    "# Oil pressure gradient\n",
    "dpdh = rho_o/144 # psi/ft\n",
    "\n",
    "# Bubble point pressure using Standing correlation\n",
    "A = (gor/sg_gas_total)**0.83 * 10**(0.00091*t-0.0125*api_oil)\n",
    "Pb = 18.2*(A - 1.4) # Eq 3.78 (psia)\n",
    "\n",
    "gas_cap_depth = h1 - ((p1 - Pb)/dpdh)\n",
    "print('Oil leg gradient:', round(dpdh,4),'psi/ft')\n",
    "print('Bubble point depth:', round(gas_cap_depth,1),'ft')\n",
    "if gas_cap_depth > top_structure:\n",
    "    print('Possible gas cap exists of height:', round(gas_cap_depth-top_structure,1),'ft' )\n",
    "else:\n",
    "    print('No gas cap likely within structure')"
   ]
  },
  {
   "cell_type": "code",
   "execution_count": null,
   "metadata": {},
   "outputs": [],
   "source": []
  }
 ],
 "metadata": {
  "kernelspec": {
   "display_name": "Python 3",
   "language": "python",
   "name": "python3"
  },
  "language_info": {
   "codemirror_mode": {
    "name": "ipython",
    "version": 3
   },
   "file_extension": ".py",
   "mimetype": "text/x-python",
   "name": "python",
   "nbconvert_exporter": "python",
   "pygments_lexer": "ipython3",
   "version": "3.7.2"
  }
 },
 "nbformat": 4,
 "nbformat_minor": 2
}
