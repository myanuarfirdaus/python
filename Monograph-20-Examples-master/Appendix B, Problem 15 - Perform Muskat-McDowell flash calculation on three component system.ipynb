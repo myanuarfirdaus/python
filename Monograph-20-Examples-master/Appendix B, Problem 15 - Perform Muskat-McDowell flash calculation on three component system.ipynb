{
 "cells": [
  {
   "cell_type": "markdown",
   "metadata": {},
   "source": [
    "# Problem 15\n",
    "Estimate K values with modified Wilson correlation and perform flash calculation of 3 component mixture"
   ]
  },
  {
   "cell_type": "code",
   "execution_count": 5,
   "metadata": {},
   "outputs": [],
   "source": [
    "import math\n",
    "from tabulate import tabulate\n",
    "R = 10.73146 # Universal gas constant, psia-ft3/R-lbm mol"
   ]
  },
  {
   "cell_type": "code",
   "execution_count": 38,
   "metadata": {},
   "outputs": [],
   "source": [
    "# Per Table B-18 and B-19\n",
    "comps = ['C1', 'C3', 'nC5']\n",
    "z = [0.20, 0.32, 0.48]\n",
    "pc = [667.8, 616.3, 488.6]\n",
    "tc = [343.0, 665.7, 845.4]\n",
    "w = [0.0115, 0.1454, 0.251]\n",
    "\n",
    "# As specified by problem scenario\n",
    "pk = 2000 # Convergence pressure psia \n",
    "p = 500 # psia\n",
    "t = 160 # deg F\n",
    "A2 = 0.7 # problem characterizes this as A0, but I assume this is a misprint as A0 doesn't factor into these equations"
   ]
  },
  {
   "cell_type": "code",
   "execution_count": 39,
   "metadata": {},
   "outputs": [],
   "source": [
    "# Setup a function we can call for the modified Wilson correlation\n",
    "def k_mod_wilson(w, tc, pc, t, p, pk, A2):\n",
    "    A1 = 1-((p-14.7)/(pk-14.7))**A2 # Eq 3.160 - assuming pressures given in psia, Eq 3.160 is in terms of psig\n",
    "    tr = t/tc\n",
    "    pr = p/pc\n",
    "    return (pc/pk)**(A1-1)*math.exp(5.37*A1*(1+w)*(1-1/tr))/pr # Eq 3.159"
   ]
  },
  {
   "cell_type": "code",
   "execution_count": 40,
   "metadata": {},
   "outputs": [
    {
     "name": "stdout",
     "output_type": "stream",
     "text": [
      "Table B-19 Component Properties (Problem 15)\n",
      "\n",
      "Component      pci    tci      wi     Ki\n",
      "-----------  -----  -----  ------  -----\n",
      "C1           667.8  343    0.0115  9.208\n",
      "C3           616.3  665.7  0.1454  1.439\n",
      "nC5          488.6  845.4  0.251   0.358\n"
     ]
    }
   ],
   "source": [
    "# Calculate all the Ki's\n",
    "ncomps = len(comps)\n",
    "K = [k_mod_wilson(w[i], tc[i], pc[i], t+460, p, pk, A2) for i in range(ncomps)]\n",
    "\n",
    "# And print out summary\n",
    "print('Table B-19 Component Properties (Problem 15)\\n')\n",
    "header=['Component', 'pci', 'tci', 'wi', 'Ki']\n",
    "table = []\n",
    "for i in range(ncomps):\n",
    "    table.append([comps[i], pc[i], tc[i], w[i], round(K[i],3)])\n",
    "print(tabulate(table,headers=header))"
   ]
  },
  {
   "cell_type": "code",
   "execution_count": 41,
   "metadata": {},
   "outputs": [],
   "source": [
    "# Muscat-McDowell two-phase split\n",
    "def MM(Fv, *args):\n",
    "    z, K = args\n",
    "    return sum(z[i]/(Fv+(1/(K[i]-1))) for i in range(len(z))) # Eq 4.39"
   ]
  },
  {
   "cell_type": "code",
   "execution_count": 42,
   "metadata": {},
   "outputs": [
    {
     "name": "stdout",
     "output_type": "stream",
     "text": [
      "Vapor fraction associated with first guess Ki's: 0.48242\n"
     ]
    }
   ],
   "source": [
    "from scipy.optimize import brentq\n",
    "# Calculate vapor fraction to solve the Muscat-McDowell equation\n",
    "data = (z, K)\n",
    "Fv = brentq(MM,0,1, args = data) # Use SciPy Python solver brentq instead of Newton iterations (https://docs.scipy.org/doc/scipy/reference/generated/scipy.optimize.brentq.html)\n",
    "\n",
    "# And print result\n",
    "print(\"Vapor fraction associated with first guess Ki's:\", round(Fv,5))"
   ]
  },
  {
   "cell_type": "code",
   "execution_count": 43,
   "metadata": {},
   "outputs": [
    {
     "data": {
      "image/png": "[encoded data removed]",
      "text/plain": [
       "<Figure size 432x288 with 1 Axes>"
      ]
     },
     "metadata": {
      "needs_background": "light"
     },
     "output_type": "display_data"
    }
   ],
   "source": [
    "# Just for laughs, plot the associated h(Fv) plot\n",
    "import numpy as np\n",
    "import matplotlib.pyplot as plt\n",
    "%matplotlib inline\n",
    "\n",
    "Fv_plot = np.linspace(0,1)\n",
    "plt.plot(Fv_plot,[MM(Fv_plot, *data) for Fv_plot in Fv_plot])\n",
    "plt.xlabel('Vapor Fraction Fv')\n",
    "plt.ylabel('h(Fv)')\n",
    "plt.title(\"Muscat-McDowell - h(Fv) vs Fv\")\n",
    "plt.grid();"
   ]
  },
  {
   "cell_type": "code",
   "execution_count": 44,
   "metadata": {},
   "outputs": [
    {
     "name": "stdout",
     "output_type": "stream",
     "text": [
      "Table B-21 Final Flash Calculation Results (Problem 15)\n",
      "\n",
      "Component      zi  Ki      ci         zi/(Fv+ci)    zi/(Fv+ci)**2         xi        yi\n",
      "-----------  ----  ------  -------  ------------  ---------------  ---------  --------\n",
      "C1           0.2   9.2082  0.1218     0.330988          0.547766   0.0403243  0.371313\n",
      "C3           0.32  1.439   2.2777     0.115936          0.0420036  0.26407    0.380006\n",
      "nC5          0.48  0.3575  -1.5564   -0.446924          0.416128   0.695606   0.248681\n",
      "Total        1                       -7.4496e-14        1.0059     1          1\n"
     ]
    }
   ],
   "source": [
    "# And print out summary\n",
    "c = [1/(K[i]-1) for i in range(ncomps)]\n",
    "x = [z[i]/(Fv*(K[i]-1)+1) for i in range(ncomps)] # Eq 4.41\n",
    "y = [K[i]*x[i] for i in range(ncomps)]\n",
    "print('Table B-21 Final Flash Calculation Results (Problem 15)\\n')\n",
    "header=['Component', 'zi', 'Ki', 'ci', 'zi/(Fv+ci)', 'zi/(Fv+ci)**2', 'xi', 'yi']\n",
    "table = []\n",
    "for i in range(ncomps):\n",
    "    table.append([comps[i], z[i], round(K[i],4), round(c[i],4), z[i]/(Fv+c[i]), z[i]/(Fv+c[i])**2, x[i], y[i] ])\n",
    "table.append(['Total', sum(z), ' ', ' ', sum(z[i]/(Fv+c[i]) for i in range(ncomps)), sum(z[i]/(Fv+c[i])**2  for i in range(ncomps)), sum(x), sum(y) ])\n",
    "print(tabulate(table,headers=header))"
   ]
  },
  {
   "cell_type": "code",
   "execution_count": null,
   "metadata": {},
   "outputs": [],
   "source": []
  }
 ],
 "metadata": {
  "kernelspec": {
   "display_name": "Python 3",
   "language": "python",
   "name": "python3"
  },
  "language_info": {
   "codemirror_mode": {
    "name": "ipython",
    "version": 3
   },
   "file_extension": ".py",
   "mimetype": "text/x-python",
   "name": "python",
   "nbconvert_exporter": "python",
   "pygments_lexer": "ipython3",
   "version": "3.7.2"
  }
 },
 "nbformat": 4,
 "nbformat_minor": 2
}
