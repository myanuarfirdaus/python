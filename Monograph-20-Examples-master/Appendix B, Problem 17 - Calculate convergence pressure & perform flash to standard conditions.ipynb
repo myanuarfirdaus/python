{
 "cells": [
  {
   "cell_type": "markdown",
   "metadata": {},
   "source": [
    "# Problem 17\n",
    "Calculate convergence pressure on system at bubble point pressure, and perform flash to standard conditions"
   ]
  },
  {
   "cell_type": "code",
   "execution_count": 1,
   "metadata": {},
   "outputs": [],
   "source": [
    "import math\n",
    "from tabulate import tabulate\n",
    "R = 10.73146 # Universal gas constant, psia-ft3/R-lbm mol"
   ]
  },
  {
   "cell_type": "code",
   "execution_count": 2,
   "metadata": {},
   "outputs": [
    {
     "name": "stdout",
     "output_type": "stream",
     "text": [
      "Table B-25 Component Properties (Problem 17)\n",
      "Component         z  MW     Rho    Pc      Tc      w\n",
      "-----------  ------  -----  -----  ------  ------  ------\n",
      "CO2          0.0111  44.01  31.18  1070.6  547.6   0.231\n",
      "C1           0.395   16.04  20.58  667.8   343.0   0.0115\n",
      "C2           0.0969  30.07  28.06  707.8   549.8   0.0908\n",
      "C3           0.0784  44.09  31.66  616.3   665.7   0.1454\n",
      "iC4          0.0159  58.12  35.01  529.1   734.7   0.1756\n",
      "nC4          0.0372  58.12  36.45  550.7   765.3   0.1928\n",
      "iC5          0.0123  72.15  39.13  490.4   828.8   0.2273\n",
      "nC5          0.0211  72.15  39.3   488.6   845.4   0.251\n",
      "C6           0.0295  86.17  41.19  436.9   913.4   0.2957\n",
      "F1           0.1578  114.1  47.86  409.6   1065.5  0.3255\n",
      "F2           0.1243  233.1  52.41  235.1   1356.0  0.6538\n",
      "F3           0.0205  455.0  57.72  134.6   1689.1  1.1489\n",
      "Total:       1\n"
     ]
    }
   ],
   "source": [
    "# Build the component list used for this example from Table B-25\n",
    "names = ['CO2', 'C1', 'C2', 'C3', 'iC4', 'nC4', 'iC5', 'nC5', 'C6', 'F1', 'F2', 'F3']\n",
    "z = [0.0111, 0.3950, 0.0969, 0.0784, 0.0159, 0.0372, 0.0123, 0.0211, 0.0295, 0.1578, 0.1243, 0.0205]\n",
    "M = [44.01, 16.04, 30.07, 44.09, 58.12, 58.12, 72.15, 72.15, 86.17, 114.10, 233.10, 455.00]\n",
    "rho = [31.18, 20.58, 28.06, 31.66, 35.01, 36.45, 39.13, 39.30, 41.19, 47.86, 52.41, 57.72]\n",
    "pc = [1070.6, 667.8, 707.8, 616.3, 529.1, 550.7, 490.4, 488.6, 436.9, 409.6, 235.1, 134.6]\n",
    "tc = [547.6, 343.0, 549.8, 665.7, 734.7, 765.3, 828.8, 845.4, 913.4, 1065.5, 1356.0, 1689.1]\n",
    "w = [0.2310, 0.0115, 0.0908, 0.1454, 0.1756, 0.1928, 0.2273, 0.2510, 0.2957, 0.3255, 0.6538, 1.1489]\n",
    "\n",
    "ncomps = len(z)\n",
    "#Print out table to check we've entered everything correctly\n",
    "print('Table B-25 Component Properties (Problem 17)')\n",
    "header=['Component', 'z', 'MW', 'Rho', 'Pc', 'Tc', 'w']\n",
    "table = []\n",
    "for i in range(ncomps):\n",
    "    table.append([names[i], z[i], M[i], rho[i], pc[i], tc[i], w[i]])\n",
    "table.append(['Total:', round(sum(z),5), ' ', ' ', ' ', ' ', ' ', ' '])\n",
    "print(tabulate(table,headers=header))"
   ]
  },
  {
   "cell_type": "code",
   "execution_count": 3,
   "metadata": {},
   "outputs": [],
   "source": [
    "# Same modified Wilson function we used in Problem 16\n",
    "def k_mod_wilson(w, tc, pc, t, p, pk, A2):\n",
    "    A1 = 1-((p-14.7)/(pk-14.7))**A2 # Eq 3.160 - assuming pressures given in psia, Eq 3.160 is in terms of psig\n",
    "    tr = t/tc\n",
    "    pr = p/pc\n",
    "    return (pc/pk)**(A1-1)*math.exp(5.37*A1*(1+w)*(1-1/tr))/pr # Eq 3.159"
   ]
  },
  {
   "cell_type": "code",
   "execution_count": 4,
   "metadata": {},
   "outputs": [],
   "source": [
    "#Like we did in Problem 16, except we are solving for pk now instead of pbub\n",
    "def Fpk(pk, *args):\n",
    "    w, tc, pc, t, pbub, A2 = args\n",
    "    ncomps = len(w)\n",
    "    K = [k_mod_wilson(w[i], tc[i], pc[i], t+460, pbub, pk, A2) for i in range(ncomps)]\n",
    "    return 1 - sum((z[i]*K[i]) for i in range(ncomps)) # Eq 3.165"
   ]
  },
  {
   "cell_type": "code",
   "execution_count": 5,
   "metadata": {},
   "outputs": [],
   "source": [
    "pbub = 3100 #psia\n",
    "t = 236 # deg F\n",
    "A2 = 0.7 # Defined as A0 in the exercise\n",
    "\n",
    "from scipy.optimize import brentq\n",
    "# Calculate convergence pressure pk consistent with specified bubble point pressure and A2\n",
    "data = (w, tc, pc, t, pbub, A2)\n",
    "pk = brentq(Fpk,pbub+1,10000, args = data) # Use SciPy Python solver Brentq instead of Newton iterations\n",
    "K = [k_mod_wilson(w[i], tc[i], pc[i], t+460, pbub, pk, A2) for i in range(ncomps)]"
   ]
  },
  {
   "cell_type": "code",
   "execution_count": 6,
   "metadata": {},
   "outputs": [
    {
     "name": "stdout",
     "output_type": "stream",
     "text": [
      "Convergence pressure pk: 4049.7\n",
      "\n",
      "Table B-26 K Values and incipient phas gas composition (Problem 17)\n",
      "Component    Tri    Pri     Ki           yi\n",
      "-----------  -----  ------  -------  ------\n",
      "CO2          1.271  2.896   1.32415  0.0147\n",
      "C1           2.029  4.642   1.5378   0.6074\n",
      "C2           1.266  4.38    1.19631  0.1159\n",
      "C3           1.046  5.03    0.99072  0.0777\n",
      "iC4          0.947  5.859   0.86812  0.0138\n",
      "nC4          0.909  5.629   0.8322   0.031\n",
      "iC5          0.84   6.321   0.73369  0.009\n",
      "nC5          0.823  6.345   0.71042  0.015\n",
      "C6           0.762  7.095   0.6149   0.0181\n",
      "F1           0.653  7.568   0.46195  0.0729\n",
      "F2           0.513  13.186  0.18967  0.0236\n",
      "F3           0.412  23.031  0.04348  0.0009\n",
      "Total:                               1\n"
     ]
    }
   ],
   "source": [
    "# And print results\n",
    "print('Convergence pressure pk:', round(pk,1))\n",
    "print('\\nTable B-26 K Values and incipient phas gas composition (Problem 17)')\n",
    "header=['Component', 'Tri', 'Pri', 'Ki', 'yi']\n",
    "table = []\n",
    "for i in range(ncomps):\n",
    "    table.append([names[i], round((t+460)/tc[i],3), round(pbub/pc[i],3), round(K[i],5), round(z[i]*K[i],4)])\n",
    "table.append(['Total:', ' ', ' ', ' ', sum(z[i]*K[i] for i in range(ncomps))])\n",
    "print(tabulate(table,headers=header))\n"
   ]
  },
  {
   "cell_type": "code",
   "execution_count": 7,
   "metadata": {},
   "outputs": [],
   "source": [
    "# Flash to standard conditions\n",
    "tsc = 60 #deg F\n",
    "psc = 14.7 #psia\n",
    "Ksc = [k_mod_wilson(w[i], tc[i], pc[i], tsc+460, psc, pk, A2) for i in range(ncomps)]"
   ]
  },
  {
   "cell_type": "code",
   "execution_count": 8,
   "metadata": {},
   "outputs": [
    {
     "name": "stdout",
     "output_type": "stream",
     "text": [
      "Vapor fraction at standard conditions: 0.642665\n"
     ]
    }
   ],
   "source": [
    "# Rachford Rice equation #4.36\n",
    "def RR(Fv, *args):\n",
    "    z, K = args\n",
    "    return sum(z[i]*(K[i]-1)/(1+Fv*(K[i]-1)) for i in range(len(z)))\n",
    "\n",
    "data = (z, Ksc)\n",
    "Fv = brentq(RR,0.0,1.0, data) # Use in-built Python solver brentq\n",
    "\n",
    "print('Vapor fraction at standard conditions:', round(Fv,6))"
   ]
  },
  {
   "cell_type": "code",
   "execution_count": 9,
   "metadata": {},
   "outputs": [
    {
     "name": "stdout",
     "output_type": "stream",
     "text": [
      "Separator gas gravity: 0.946\n"
     ]
    }
   ],
   "source": [
    "# Calculate average MW of surface gas\n",
    "x = [z[i]/(Fv*(Ksc[i]-1)+1) for i in range(ncomps)]\n",
    "y = [x[i]*Ksc[i] for i in range(ncomps)] # Eq 4.41\n",
    "mg = [y[i]*M[i] for i in range(ncomps)]\n",
    "MW_gas_sc = sum(mg)\n",
    "sg_sc = MW_gas_sc/28.91\n",
    "print('Separator gas gravity:', round(sg_sc , 3))"
   ]
  },
  {
   "cell_type": "code",
   "execution_count": 10,
   "metadata": {},
   "outputs": [],
   "source": [
    "# Average stock tank oil molecular weight\n",
    "moi = [x[i]*M[i] for i in range(ncomps)]\n",
    "voi = [x[i]*M[i]/rho[i] for i in range(ncomps)]\n",
    "Mo = sum(moi)\n",
    "Rho_o = Mo / sum(voi)\n",
    "gamma_o = Rho_o / 62.4\n",
    "api_o = 141.5/gamma_o - 131.5\n",
    "Vg = 379 * Fv # scf/mole of feed\n",
    "Vo = (1-Fv)*Mo/Rho_o/5.614583 #stb/mole of feed\n",
    "gor = Vg/Vo"
   ]
  },
  {
   "cell_type": "code",
   "execution_count": 11,
   "metadata": {},
   "outputs": [
    {
     "name": "stdout",
     "output_type": "stream",
     "text": [
      "Vapor fraction flashed to standard conditions: 0.642665\n",
      "Seperator gas gravity: 0.945552\n",
      "Stock tank oil gravity: 43.36 deg API\n",
      "Gas Oil Ratio: 1151.5 scf/stb\n",
      "1 mole of feed yields: Gas Volume = 243.6 scf\n",
      "                       Oil Volume = 0.2115 stb\n",
      " \n",
      "Table B-27 Separator Flash Calculation (Problem 17)\n",
      "Component    Tri    Pri    Ki                        zi/(Fg+ci)      xi      yi     moi    voi    mgi\n",
      "-----------  -----  -----  ----------------------  ------------  ------  ------  ------  -----  -----\n",
      "CO2          0.95   0.014  51.27809261792068        0.0168       0.0003  0.0171    0.01  0       0.75\n",
      "C1           1.516  0.022  288.5957933749961        0.6113       0.0021  0.6134    0.03  0.002   9.84\n",
      "C2           0.946  0.021  34.41968933035463        0.1441       0.0043  0.1484    0.13  0.005   4.46\n",
      "C3           0.781  0.024  7.481849931202622        0.0984       0.0152  0.1136    0.67  0.021   5.01\n",
      "iC4          0.708  0.028  2.655946105943952        0.0128       0.0077  0.0205    0.45  0.013   1.19\n",
      "nC4          0.679  0.027  1.8253077884541762       0.0201       0.0243  0.0444    1.41  0.039   2.58\n",
      "iC5          0.627  0.03   0.6660242720759819      -0.0052       0.0157  0.0104    1.13  0.029   0.75\n",
      "nC5          0.615  0.03   0.49651594695637796     -0.0157       0.0312  0.0155    2.25  0.057   1.12\n",
      "C6           0.569  0.034  0.15380512065609886     -0.0547       0.0647  0.0099    5.57  0.135   0.86\n",
      "F1           0.488  0.036  0.015928361735837896    -0.4225       0.4293  0.0068   48.98  1.023   0.78\n",
      "F2           0.383  0.063  1.0073515561688986e-05  -0.3478       0.3478  0        81.08  1.547   0\n",
      "F3           0.308  0.109  4.9470135380522435e-11  -0.0574       0.0574  0        26.1   0.452   0\n",
      "Total:                                              1.37258e-13  1       1       167.83  3.324  27.34\n"
     ]
    }
   ],
   "source": [
    "# And summarize results\n",
    "print('Vapor fraction flashed to standard conditions:', round(Fv,6))\n",
    "print('Seperator gas gravity:', round(sg_sc,6))\n",
    "print('Stock tank oil gravity:', round(api_o,2), 'deg API')\n",
    "print('Gas Oil Ratio:', round(gor,1), 'scf/stb')\n",
    "print('1 mole of feed yields: Gas Volume =', round(Vg,1), 'scf')\n",
    "print('                       Oil Volume =', round(Vo,4), 'stb')\n",
    "print(' ')\n",
    "\n",
    "c = [1/(Ksc[i]-1) for i in range(ncomps)]\n",
    "mm = [z[i]/(Fv+c[i]) for i in range(ncomps)]\n",
    "\n",
    "print('Table B-27 Separator Flash Calculation (Problem 17)')\n",
    "header=['Component', 'Tri', 'Pri', 'Ki', 'zi/(Fg+ci)', 'xi', 'yi', 'moi', 'voi', 'mgi']\n",
    "table = []\n",
    "for i in range(ncomps):\n",
    "    table.append([names[i], round((tsc+460)/tc[i],3), round(psc/pc[i],3), Ksc[i], round(mm[i],4), round(x[i],4), round(y[i],4), round(moi[i],2), round(voi[i],3), round(mg[i],2)])\n",
    "table.append(['Total:', ' ', ' ', ' ', sum(mm), sum(x), sum(y), round(sum(moi),2), round(sum(voi),3), round(sum(mg),2)])\n",
    "print(tabulate(table,headers=header))"
   ]
  },
  {
   "cell_type": "code",
   "execution_count": null,
   "metadata": {},
   "outputs": [],
   "source": []
  }
 ],
 "metadata": {
  "kernelspec": {
   "display_name": "Python 3",
   "language": "python",
   "name": "python3"
  },
  "language_info": {
   "codemirror_mode": {
    "name": "ipython",
    "version": 3
   },
   "file_extension": ".py",
   "mimetype": "text/x-python",
   "name": "python",
   "nbconvert_exporter": "python",
   "pygments_lexer": "ipython3",
   "version": "3.7.2"
  }
 },
 "nbformat": 4,
 "nbformat_minor": 2
}
