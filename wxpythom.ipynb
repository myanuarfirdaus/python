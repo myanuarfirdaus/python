{
 "cells": [
  {
   "cell_type": "code",
   "execution_count": 1,
   "metadata": {},
   "outputs": [
    {
     "name": "stdout",
     "output_type": "stream",
     "text": [
      "4.0.6 msw (phoenix) wxWidgets 3.0.5\n"
     ]
    }
   ],
   "source": [
    "import wx\n",
    "print (wx.version())"
   ]
  },
  {
   "cell_type": "code",
   "execution_count": 2,
   "metadata": {},
   "outputs": [
    {
     "data": {
      "text/plain": [
       "0"
      ]
     },
     "execution_count": 2,
     "metadata": {},
     "output_type": "execute_result"
    }
   ],
   "source": [
    "import wx\n",
    " \n",
    "app = wx.App(False)  # Create a new app, don't redirect stdout/stderr to a window.\n",
    "frame = wx.Frame(None, wx.ID_ANY, \"Hello World\") # A Frame is a top-level window.\n",
    "frame.Show(True)     # Show the frame.\n",
    "app.MainLoop()"
   ]
  },
  {
   "cell_type": "code",
   "execution_count": 5,
   "metadata": {},
   "outputs": [
    {
     "data": {
      "text/plain": [
       "0"
      ]
     },
     "execution_count": 5,
     "metadata": {},
     "output_type": "execute_result"
    }
   ],
   "source": [
    "import wx\n",
    "\n",
    "class MyFrame(wx.Frame):\n",
    "    \"\"\" We simply derive a new class of Frame. \"\"\"\n",
    "    def __init__(self, parent, title):\n",
    "        wx.Frame.__init__(self, parent, title=title, size=(200,100))\n",
    "        self.control = wx.TextCtrl(self, style=wx.TE_MULTILINE)\n",
    "        self.Show(True)\n",
    "\n",
    "app = wx.App(False)\n",
    "frame = MyFrame(None, 'Small editor')\n",
    "app.MainLoop()"
   ]
  },
  {
   "cell_type": "code",
   "execution_count": null,
   "metadata": {},
   "outputs": [],
   "source": []
  }
 ],
 "metadata": {
  "kernelspec": {
   "display_name": "Python 3",
   "language": "python",
   "name": "python3"
  },
  "language_info": {
   "codemirror_mode": {
    "name": "ipython",
    "version": 3
   },
   "file_extension": ".py",
   "mimetype": "text/x-python",
   "name": "python",
   "nbconvert_exporter": "python",
   "pygments_lexer": "ipython3",
   "version": "3.7.3"
  }
 },
 "nbformat": 4,
 "nbformat_minor": 2
}
