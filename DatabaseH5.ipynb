{
 "cells": [
  {
   "cell_type": "code",
   "execution_count": 48,
   "metadata": {},
   "outputs": [
    {
     "name": "stdout",
     "output_type": "stream",
     "text": [
      "[b'Particle:      1', b'Particle:      2', b'Particle:      3', b'Particle:      4', b'Particle:      5', b'Particle:      6', b'Particle:      7', b'Particle:      8', b'Particle:      9']\n",
      "[]\n",
      "[256, 512, 768, 1024, 1280, 1536, 1792, 2048, 2304]\n",
      "[1, 2, 3, 4, 5, 6, 7, 8, 9]\n",
      "[1, 2, 3, 4, 5, 6, 7, 8, 9]\n",
      "[9, 8, 7, 6, 5, 4, 3, 2, 1]\n",
      "[1.0, 4.0, 9.0, 16.0, 25.0, 36.0, 49.0, 64.0, 81.0]\n",
      "[1.0, 256.0, 6561.0]\n",
      "tutorial2.h5 (File) 'Test file'\n",
      "Last modif.: 'Wed Mar 21 14:30:03 2018'\n",
      "Object Tree: \n",
      "/ (RootGroup) 'Test file'\n",
      "/columns (Group) 'Pressure and Name'\n",
      "/columns/name (Array(9,)) 'Name column selection'\n",
      "/columns/pressure (Array(9,)) 'Pressure column selection'\n",
      "/detector (Group) 'Detector information'\n",
      "/detector/readout (Table(10,)) 'Readout example'\n",
      "\n"
     ]
    }
   ],
   "source": [
    "from tables import *\n",
    "class Particle(IsDescription):\n",
    "    name      = StringCol(16)   # 16-character String\n",
    "    idnumber  = Int64Col()      # Signed 64-bit integer\n",
    "    ADCcount  = UInt16Col()     # Unsigned short integer\n",
    "    TDCcount  = UInt8Col()      # unsigned byte\n",
    "    grid_i    = Int32Col()      # 32-bit integer\n",
    "    grid_j    = Int32Col()      # 32-bit integer\n",
    "    pressure  = Float32Col()    # float  (single-precision)\n",
    "    energy    = Float64Col()    # double (double-precision)\n",
    "\n",
    "h5file = open_file(\"tutorial2.h5\", mode=\"w\", title=\"Test file\")\n",
    "group = h5file.create_group(\"/\", 'detector', 'Detector information')\n",
    "table = h5file.create_table(group, 'readout', Particle, \"Readout example\")\n",
    "\n",
    "particle = table.row\n",
    "for i in range(10):\n",
    "    particle['name']  = 'Particle: %6d' % (i)\n",
    "    particle['TDCcount'] = i % 256\n",
    "    particle['ADCcount'] = (i * 256) % (1 << 16)\n",
    "    particle['grid_i'] = i\n",
    "    particle['grid_j'] = 10 - i\n",
    "    particle['pressure'] = float(i*i)\n",
    "    particle['energy'] = float(particle['pressure'] ** 4)\n",
    "    particle['idnumber'] = i * (2 ** 34)\n",
    "    # Insert a new particle record\n",
    "    particle.append()\n",
    "table.flush()\n",
    "table = h5file.root.detector.readout\n",
    "name = [x['name'] for x in table.iterrows() if x['TDCcount'] > 0 ]\n",
    "idnumber = [x['idnumber'] for x in table.iterrows() if x['TDCcount'] > 0 and 1 <= x['idnumber'] < 1000]\n",
    "ADCcount = [x['ADCcount'] for x in table.iterrows() if x['TDCcount'] > 0 and 1 <= x['ADCcount'] < 100000]\n",
    "TDCcount = [x['TDCcount'] for x in table.iterrows() if x['TDCcount'] > 0 and 1 <= x['TDCcount'] < 1000]\n",
    "grid_i = [x['grid_i'] for x in table.iterrows() if x['TDCcount'] > 0 and 1 <= x['grid_i'] < 1000]\n",
    "grid_j = [x['grid_j'] for x in table.iterrows() if x['TDCcount'] > 0 and 1 <= x['grid_j'] < 1000]\n",
    "pressure = [x['pressure'] for x in table.iterrows() if x['TDCcount'] > 0 and 1 <= x['pressure'] < 1000]\n",
    "energy = [x['energy'] for x in table.iterrows() if x['TDCcount'] > 0 and 1 <= x['energy'] < 10000]\n",
    "\n",
    "\n",
    "print(name)\n",
    "print(idnumber)\n",
    "print(ADCcount)\n",
    "print(TDCcount)\n",
    "print(grid_i)\n",
    "print(grid_j)\n",
    "print(pressure)\n",
    "print(energy)\n",
    "\n",
    "gcolumns = h5file.create_group(h5file.root, \"columns\", \"Pressure and Name\")\n",
    "h5file.create_array(gcolumns, 'pressure', pressure, \"Pressure column selection\")\n",
    "h5file.create_array(gcolumns, 'name', name, \"Name column selection\")\n",
    "\n",
    "print(h5file)\n",
    "\n",
    "\n",
    "\n",
    "h5file.close()\n"
   ]
  },
  {
   "cell_type": "code",
   "execution_count": null,
   "metadata": {
    "collapsed": true
   },
   "outputs": [],
   "source": []
  }
 ],
 "metadata": {
  "kernelspec": {
   "display_name": "Python 3",
   "language": "python",
   "name": "python3"
  },
  "language_info": {
   "codemirror_mode": {
    "name": "ipython",
    "version": 3
   },
   "file_extension": ".py",
   "mimetype": "text/x-python",
   "name": "python",
   "nbconvert_exporter": "python",
   "pygments_lexer": "ipython3",
   "version": "3.6.3"
  }
 },
 "nbformat": 4,
 "nbformat_minor": 2
}
