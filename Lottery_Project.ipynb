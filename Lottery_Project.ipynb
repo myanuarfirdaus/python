{
 "cells": [
  {
   "cell_type": "code",
   "execution_count": 5,
   "metadata": {},
   "outputs": [
    {
     "name": "stdout",
     "output_type": "stream",
     "text": [
      "[1, 6, 8, 29, 32, 33]\n",
      "[5, 13, 25, 30, 33, 49]\n"
     ]
    }
   ],
   "source": [
    "import random\n",
    "numbers = []\n",
    "for i in range(2):\n",
    "    for j in range(6):\n",
    "        numbers.append(random.randint(1,49))\n",
    "        for k in range(j):\n",
    "            while numbers[j]==numbers[k]:\n",
    "                numbers[j]=random.randint(1,49)\n",
    "    print (sorted(numbers))\n",
    "    numbers = []\n",
    "f = open('combinations.txt', 'w')\n",
    "f.write(str(sorted(numbers)))\n",
    "f.close()"
   ]
  },
  {
   "cell_type": "code",
   "execution_count": 12,
   "metadata": {},
   "outputs": [
    {
     "ename": "SystemExit",
     "evalue": "",
     "output_type": "error",
     "traceback": [
      "An exception has occurred, use %tb to see the full traceback.\n",
      "\u001b[1;31mSystemExit\u001b[0m\n"
     ]
    },
    {
     "name": "stderr",
     "output_type": "stream",
     "text": [
      "D:\\SOFTWARE\\Anaconda\\lib\\site-packages\\IPython\\core\\interactiveshell.py:2971: UserWarning: To exit: use 'exit', 'quit', or Ctrl-D.\n",
      "  warn(\"To exit: use 'exit', 'quit', or Ctrl-D.\", stacklevel=1)\n"
     ]
    }
   ],
   "source": [
    "#tombol PyQT\n",
    "import sys\n",
    "from PyQt5.QtWidgets import QApplication, QWidget, QPushButton, QLabel\n",
    "from PyQt5.QtGui import QIcon\n",
    "from PyQt5.QtCore import pyqtSlot, Qt\n",
    " \n",
    "class App(QWidget):\n",
    " \n",
    "    def __init__(self):\n",
    "        super().__init__()\n",
    "        self.title = 'PyQt5 button - pythonspot.com'\n",
    "        self.left = 200\n",
    "        self.top = 200\n",
    "        self.width = 320\n",
    "        self.height = 200\n",
    "        self.initUI()\n",
    " \n",
    "    def initUI(self):\n",
    "        self.setWindowTitle(self.title)\n",
    "        self.setGeometry(self.left, self.top, self.width, self.height)\n",
    " \n",
    "        button = QPushButton('PyQt5 button', self)\n",
    "        button.setToolTip('This is an example button')\n",
    "        button.move(100,70) \n",
    "        button.clicked.connect(self.on_click)\n",
    "\n",
    "        self._Label=QLabel(\"Display For Random\",self)\n",
    "        self._Label.move(100,10)\n",
    "        self._Label.setAlignment(Qt.AlignCenter) \n",
    "\n",
    "        self.show()\n",
    " \n",
    "    def on_click(self):\n",
    "        print('PyQt5 button click')\n",
    " \n",
    "    \n",
    "def main():\n",
    "    app = QApplication(sys.argv)\n",
    "    ex = App()\n",
    "    ex.show()\n",
    "    app.exec_()\n",
    "\n",
    "if __name__ == '__main__':\n",
    "    sys.exit(main()) "
   ]
  },
  {
   "cell_type": "code",
   "execution_count": null,
   "metadata": {},
   "outputs": [],
   "source": []
  }
 ],
 "metadata": {
  "kernelspec": {
   "display_name": "Python 3",
   "language": "python",
   "name": "python3"
  },
  "language_info": {
   "codemirror_mode": {
    "name": "ipython",
    "version": 3
   },
   "file_extension": ".py",
   "mimetype": "text/x-python",
   "name": "python",
   "nbconvert_exporter": "python",
   "pygments_lexer": "ipython3",
   "version": "3.6.5"
  }
 },
 "nbformat": 4,
 "nbformat_minor": 2
}
